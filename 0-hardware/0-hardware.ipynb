{
 "cells": [
  {
   "cell_type": "markdown",
   "id": "compatible-continuity",
   "metadata": {},
   "source": [
    "# Understanding Hardware"
   ]
  },
  {
   "cell_type": "markdown",
   "id": "southern-business",
   "metadata": {},
   "source": [
    "### Computer Hardware"
   ]
  },
  {
   "cell_type": "markdown",
   "id": "24af592d-143e-424a-838d-391d80cc0555",
   "metadata": {},
   "source": [
    "When we think of a computer, there are three main components to consider: (1) the hard drive (or disk), (2) the CPU, and (3) the memory.  Let's go through each of these in turn.\n",
    "\n",
    "\n",
    "<img src=\"./cpu.jpg\" width=\"40%\">"
   ]
  },
  {
   "cell_type": "markdown",
   "id": "d0249db1-684e-411c-9b01-a701dbed93c8",
   "metadata": {},
   "source": [
    "1. **Hard drive**\n",
    "The hard drive is a data storage device. We need this to store any long term data, which is stored in various files.  Generally our hard drive is built into our computer, but we may also add additional storage with an external hard drive.\n",
    "\n",
    "2. **CPU**\n",
    "\n",
    "    The CPU is the central processing unit, and this is what performs tasks on our computer.  The CPU executes a series of stored instructions that is a program.\n",
    "\n",
    "3. **Memory** \n",
    "\n",
    "    Now we use hard drive to permanently store data, but reading from and writing to disk can take a significant amount time.  Because of this, data we may readily need is stored in memory for faster access.  We can see this in Python.  \n",
    "\n",
    "When we first read data stored on our hard drive, like a CSV file, it may take some time."
   ]
  },
  {
   "cell_type": "code",
   "execution_count": 3,
   "id": "fea26c98-1c62-41e4-b83d-9dcd27002897",
   "metadata": {},
   "outputs": [
    {
     "name": "stdout",
     "output_type": "stream",
     "text": [
      "24.5 ms ± 261 µs per loop (mean ± std. dev. of 7 runs, 10 loops each)\n"
     ]
    }
   ],
   "source": [
    "%%timeit\n",
    "\n",
    "import pandas as pd\n",
    "url = \"https://raw.githubusercontent.com/analytics-engineering-jigsaw/snowflake/main/0-hardware/houston_claims.csv\"\n",
    "df = pd.read_csv(url)\n",
    "df[:2]"
   ]
  },
  {
   "cell_type": "markdown",
   "id": "9165b6d9-081a-4597-890b-086c7c8e189e",
   "metadata": {},
   "source": [
    "But once we read CSV file, it is stored in memory, and we can access it with our `df` variable.  Notice that accessing the data in memory takes less than half the time of reading it from disk."
   ]
  },
  {
   "cell_type": "code",
   "execution_count": 6,
   "id": "f8f897bb-3700-4a80-9333-e0415526e007",
   "metadata": {},
   "outputs": [
    {
     "name": "stdout",
     "output_type": "stream",
     "text": [
      "10.7 µs ± 91.5 ns per loop (mean ± std. dev. of 7 runs, 100000 loops each)\n"
     ]
    }
   ],
   "source": [
    "%%timeit\n",
    "\n",
    "df\n",
    "df[:2]"
   ]
  },
  {
   "cell_type": "markdown",
   "id": "799191fb-c9ba-498f-b396-aae73e4ce564",
   "metadata": {},
   "source": [
    "With these time differences, we may think that we should perhaps only store data in memory.  But there are two downsides to using memory:\n",
    "\n",
    "1. It's more expensive\n",
    "\n",
    "The first is simply that it's more expensive to store data in memory than to store it on a disk.  Because of this, computers generally have less space for memory than hard drive space.\n",
    "\n",
    "2. It isn't permanent\n",
    "\n",
    "The second downside is that storage in memory is not persisted.  When we shut down the computer, the information stored in memory is lost. "
   ]
  },
  {
   "cell_type": "markdown",
   "id": "35236d33-7cde-44b1-b9c1-fec973f75e56",
   "metadata": {},
   "source": [
    "### Database Hardware"
   ]
  },
  {
   "cell_type": "markdown",
   "id": "0b5649b8-0329-4995-b29f-d447c1a6e21d",
   "metadata": {},
   "source": [
    "As you may guessed, to perform any SQL operations, we'll need a hard drive memory and CPU.  Let's go through each."
   ]
  },
  {
   "cell_type": "markdown",
   "id": "82de3cdd-3ea9-495b-b2ad-1daafb3c2d57",
   "metadata": {},
   "source": [
    "1. Hard Drive"
   ]
  },
  {
   "cell_type": "markdown",
   "id": "6171ee1f-c0ac-4628-8b2b-49ee15f7b044",
   "metadata": {},
   "source": [
    "The most obvious is the hard drive.  When we store data from a database, we are storing in long term storage, so we need to store this information in the hard drive.  \n",
    "\n",
    "* each table is stored in a separate file.  \n",
    "\n",
    "* And each file consists of multiple pages.  A page is just a fixed amount of space in the file.  \n",
    "* the smallest unit it can read from is one page at a time (essentially 1 paragraph of text)"
   ]
  },
  {
   "cell_type": "markdown",
   "id": "a86a7186-85f3-47c0-953f-ca7fdbd6fb3c",
   "metadata": {},
   "source": [
    "2. CPU \n",
    "\n",
    "What performs the task to read these pages of data from disk?  Well this is the CPU.  When we perform a SELECT query, the CPU will perform a task to find the relevant pages on disk and then load their contents into memory."
   ]
  },
  {
   "cell_type": "markdown",
   "id": "e2dd69e0-47be-4f4c-a3f7-1fd02164d3c5",
   "metadata": {},
   "source": [
    "<img src=\"./loaded-to-mem.jpg\" width=\"40%\">"
   ]
  },
  {
   "cell_type": "markdown",
   "id": "7c67d59a-8068-49bf-aff0-35967083fce1",
   "metadata": {},
   "source": [
    "3. Memory"
   ]
  },
  {
   "cell_type": "markdown",
   "id": "ddea226e-29d8-4821-b32c-163638d992fe",
   "metadata": {},
   "source": [
    "Once the data is in memory, the CPU will perform further manipulations of the data.  For example, remember that an entire *page* of data is read from disk at a time into memory.  So this may consist of an entire row of data when only certain columns from that row are needed."
   ]
  },
  {
   "cell_type": "markdown",
   "id": "dbc7420d-220e-483c-be6d-1333058c4149",
   "metadata": {},
   "source": [
    "```SQL\n",
    "SELECT users.name from users ORDER BY city;\n",
    "```"
   ]
  },
  {
   "cell_type": "markdown",
   "id": "d8fe262a-cca5-4c0e-b690-280946bfd85b",
   "metadata": {},
   "source": [
    "<img src=\"./loaded-data.png\" width=\"40%\">"
   ]
  },
  {
   "cell_type": "markdown",
   "id": "c154de16-e207-4c9e-9354-e934fa230901",
   "metadata": {},
   "source": [
    "> Above, postgres all columns from each row, even columns like id that are not needed, because it reads each page of relevant data and id is in that page.  "
   ]
  },
  {
   "cell_type": "markdown",
   "id": "734d678a-5668-4ded-a6e2-1a9222e88f49",
   "metadata": {},
   "source": [
    "Once the data is loaded from disk into memory, the CPU can then order the data as specified, and only return certain columns of data."
   ]
  },
  {
   "cell_type": "markdown",
   "id": "f2065952-2e9e-4524-a7d5-19b837965c82",
   "metadata": {},
   "source": [
    "<img src=\"./order-data.png\" width=\"40%\"> "
   ]
  },
  {
   "cell_type": "markdown",
   "id": "1b97d115-eb01-4e15-b861-06dde64331a8",
   "metadata": {},
   "source": [
    "<img src=\"./final-return.png\" width=\"20%\">"
   ]
  },
  {
   "cell_type": "markdown",
   "id": "76f46635-6415-4927-8db0-0d43a9bd4f46",
   "metadata": {},
   "source": [
    "### Summary"
   ]
  },
  {
   "cell_type": "markdown",
   "id": "44ab3430-0f13-47fb-93dc-a246c065c279",
   "metadata": {},
   "source": [
    "In this lesson, we learned about the hardware that powers both computers and databases.  As we saw computers consist of a hard drive for long term storage, memory for impermanent storage with fast retrieval, and the CPU to read data both from memory and from disk, and to perform tasks.\n",
    "\n",
    "We then saw how a databases make use of this hardware.  Data is stored on disk for long term storage, and then when a query is performed the CPU finds *pages* -- small chunks of a file -- that contain the relevant data and load those pages into memory.  Then, once the relevant data is in memory, the CPU continues to operate on the data, performing sorts, group bys, and only returning specified columns of data to the user."
   ]
  },
  {
   "cell_type": "markdown",
   "id": "1daf51c9-aa77-4328-9821-d03b0396996e",
   "metadata": {},
   "source": [
    "### Resources\n",
    "\n",
    "[Postgres Data Organization](http://etutorials.org/SQL/Postgresql/Part+I+General+PostgreSQL+Use/Chapter+4.+Performance/How+PostgreSQL+Organizes+Data/)\n",
    "\n",
    "[Postgres Physical Storage](https://www.postgresql.org/docs/8.0/storage.html)\n",
    "\n",
    "[Databases CPU](https://severalnines.com/database-blog/how-high-cpu-utilization-effects-database-performance)\n",
    "\n",
    "[Columnar Stores - Towards DS](https://towardsdatascience.com/columnar-stores-when-how-why-2d6759914319)"
   ]
  }
 ],
 "metadata": {
  "kernelspec": {
   "display_name": "Python 3 (ipykernel)",
   "language": "python",
   "name": "python3"
  },
  "language_info": {
   "codemirror_mode": {
    "name": "ipython",
    "version": 3
   },
   "file_extension": ".py",
   "mimetype": "text/x-python",
   "name": "python",
   "nbconvert_exporter": "python",
   "pygments_lexer": "ipython3",
   "version": "3.9.12"
  }
 },
 "nbformat": 4,
 "nbformat_minor": 5
}
