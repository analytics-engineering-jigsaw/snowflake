{
 "cells": [
  {
   "cell_type": "markdown",
   "id": "fb339b6d-ab5d-48dd-8b5c-0f6bfddb64f0",
   "metadata": {},
   "source": [
    "# Why Analytical Databases"
   ]
  },
  {
   "cell_type": "markdown",
   "id": "e82a553c-84ea-4437-84b7-d953b911739d",
   "metadata": {},
   "source": [
    "### Introduction"
   ]
  },
  {
   "cell_type": "markdown",
   "id": "c6ee27bf-3880-47ee-b1fb-ab01ce0118b5",
   "metadata": {},
   "source": [
    "So far we have become familiar with databases that are designed and use technologies that power modern web applications.  In other words, these databases are generally used to serve and respond to requests from customers. \n",
    "\n",
    "For example, a customer of an ecommerce application may want to see previous orders he made, or the status of a current order.  And for that, the application would perform a database query to look up this information.  \n",
    "\n",
    "But data is increasingly being used not just for *customers of the application*, but also for *internal members of a company*.  For example, data analysts may want to calculate the most profitable  products, whereas marketing analysts may want to discover what drives customers acquistions, and then machine learning engineers may want to use data to forecast future sales.  As we'll see, to allow internal users to process these requests, companies typically set up one or more analytics databases. "
   ]
  },
  {
   "cell_type": "markdown",
   "id": "928ea8c1-3416-4481-a86a-dc6f077e2447",
   "metadata": {},
   "source": [
    "Before learning about the ins and outs of analytical databases, let's make sure we understand why we needed a database to power our web application in the first place.  Then we can go into some of the different data we need for an analytical database."
   ]
  },
  {
   "cell_type": "markdown",
   "id": "0d394f1f-a32f-42df-aa75-3a32d99fcb03",
   "metadata": {},
   "source": [
    "### 1. Application data needs"
   ]
  },
  {
   "cell_type": "markdown",
   "id": "a336dc74-dc06-4ab4-b9bf-5d6154843099",
   "metadata": {},
   "source": [
    "Now so far, everything we have learned about databases, really applies to an application database.  This kind of database is referred to as an **online transactional database**, or OLTP for short.  And it is our OLTPs that power customer facing applications.\n",
    "\n",
    "For example, if we consider an ecommerce store, our web application needs a database to display different data on the page."
   ]
  },
  {
   "cell_type": "markdown",
   "id": "9d1a56a8-7b68-43e7-ab97-9742c57a4f71",
   "metadata": {},
   "source": [
    "<img src=\"./shopify_store.png\" width=\"80%\">"
   ]
  },
  {
   "cell_type": "markdown",
   "id": "eaa564d7-8294-4546-9f7d-c49dea52ee66",
   "metadata": {},
   "source": [
    "For example, consider all of the data on the product page above.  We are displaying information about the product name, different sizes, the price, and a product description.  When a user visits a product page about a product, a query like the following is run:"
   ]
  },
  {
   "cell_type": "markdown",
   "id": "0bb8f4ee-c24d-450a-b3c1-1e039d31fd53",
   "metadata": {},
   "source": [
    "```SQL\n",
    "SELECT * FROM products WHERE products.id = 10\n",
    "```"
   ]
  },
  {
   "cell_type": "markdown",
   "id": "5b71437b-c785-421e-ac73-58f32e58f372",
   "metadata": {},
   "source": [
    "And then all of the needed data about that product is returned to be displayed on the page."
   ]
  },
  {
   "cell_type": "markdown",
   "id": "67bdcb29-1999-4b38-a021-66c0293c325f",
   "metadata": {},
   "source": [
    "<img src=\"./product_row.png\" width=\"60%\">"
   ]
  },
  {
   "cell_type": "markdown",
   "id": "7e9cd595-1658-476e-8001-b14af722c33c",
   "metadata": {},
   "source": [
    "The point for now, is that we need a database to keep track of all of the information needed to process the web application.  Now this may include **a lot** of information.  For example, these are just some of the tables and related columns that power a shopify store."
   ]
  },
  {
   "cell_type": "markdown",
   "id": "e4483ebd-40e3-4b8d-8eff-5b00ed7b6744",
   "metadata": {},
   "source": [
    "> <img src=\"./shopify-erd.png\" width=\"60%\">"
   ]
  },
  {
   "cell_type": "markdown",
   "id": "93de3f02-12be-4576-82db-1a7b4f7c536a",
   "metadata": {},
   "source": [
    "Looks like a lot.  But as much data as we are storing to power a web application, there may be *additional* data that we want to load into our analytics database."
   ]
  },
  {
   "cell_type": "markdown",
   "id": "f1504439-16d1-429c-b473-2592c83d0d2b",
   "metadata": {},
   "source": [
    "### 2. Analytical data needs"
   ]
  },
  {
   "cell_type": "markdown",
   "id": "9783d41f-ae00-403b-a225-e4f32beb48be",
   "metadata": {},
   "source": [
    "For an analytical database, we may need some data that comes from our application's OLTP, but may also want data that comes from different data sources.  Here are some examples of additional data we may want to work with:\n",
    "\n",
    "1. Data From third party tools\n",
    "    * The marketing team, may be using **Google analytics** to discover what is driving users to the website\n",
    "    * Perhaps it's a tool like **Mixpanel** to see what users click on once they visit the site\n",
    "    * And perhaps they are using something like **hubspot** to track sales calls to potential customers\n",
    "    \n",
    "None of this data would be stored in the OLTP, as it isn't needed to power the application, and it's been built by someone else.  But we would may still want it in an analytics database so we can perform the analysis of the marketing funnel and understand the customer journey. "
   ]
  },
  {
   "cell_type": "markdown",
   "id": "c989b325-d1a0-4f90-af51-13f1de937661",
   "metadata": {},
   "source": [
    "2. External Trends\n",
    "\n",
    "So above we saw that we may want an analytics database to store some additional marketing or sales data.  But we may also want to store some data external to our product or marketing funnel.  For example, we may want to store data to get a sense of the broader market.  We could imagine pulling in data to answer questions about the following:\n",
    "\n",
    "* Popular competitor products \n",
    "* Competitor pricing\n",
    "* Demographic or consumer trends"
   ]
  },
  {
   "cell_type": "markdown",
   "id": "d6a75fb6-2ade-43c3-be83-517d605abbc7",
   "metadata": {},
   "source": [
    "So this external information could still be used by data professionals to benchmark current performance or predict future performance.  And this is data would likely not need to be stored in the OLTP, as it is not needed to help the web application run. "
   ]
  },
  {
   "cell_type": "markdown",
   "id": "f416d41f-ffa6-494c-b4f7-fe0797fdefed",
   "metadata": {},
   "source": [
    "### Summary"
   ]
  },
  {
   "cell_type": "markdown",
   "id": "d5678b2f-06c4-4ed7-b0b4-d4c3532c9954",
   "metadata": {},
   "source": [
    "In this lesson, we saw that the data needs of an internal team may be different than the data needed to power a typical web application.  Because of this, we would want to store data sources that may not be needed to be stored in a web application's database.  For example, we saw that marketing data tracked through tools like Google Analytics, MixPanel, or Hubspot may be useful to analyze in an analytical database to better understand the customer acquisition lifecycle.  \n",
    "\n",
    "Then, we saw also saw that data external to the company may also be useful -- to perform competitive analysis, or track demographic or consumer trends.  To perform this work, data would be likely be stored in a separate analytical database, as the data is not needed to power the web application, but rather used for internal analysis.  "
   ]
  }
 ],
 "metadata": {
  "kernelspec": {
   "display_name": "Python 3 (ipykernel)",
   "language": "python",
   "name": "python3"
  },
  "language_info": {
   "codemirror_mode": {
    "name": "ipython",
    "version": 3
   },
   "file_extension": ".py",
   "mimetype": "text/x-python",
   "name": "python",
   "nbconvert_exporter": "python",
   "pygments_lexer": "ipython3",
   "version": "3.9.7"
  }
 },
 "nbformat": 4,
 "nbformat_minor": 5
}
