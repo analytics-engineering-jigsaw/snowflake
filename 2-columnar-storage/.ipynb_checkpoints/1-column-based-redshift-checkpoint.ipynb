{
 "cells": [
  {
   "cell_type": "markdown",
   "id": "fitted-demand",
   "metadata": {},
   "source": [
    "# Column Based Storage"
   ]
  },
  {
   "cell_type": "markdown",
   "id": "israeli-graduate",
   "metadata": {},
   "source": [
    "### Introduction"
   ]
  },
  {
   "cell_type": "markdown",
   "id": "blessed-surrey",
   "metadata": {},
   "source": [
    "As we know, we generally use a separate database for analytical queries as opposed to queries for our application database.  Now as we'll see, the technology underneath an analytical database actually operates differently than with our OLTP database.  \n",
    "\n",
    "Our application OLTP database operates with row based storage while analytical datbases typically use columnar based storage.   In this lesson, we'll describe what this means and see some of the benefits that this provides. "
   ]
  },
  {
   "cell_type": "markdown",
   "id": "leading-death",
   "metadata": {},
   "source": [
    "### Different Queries for an Application vs Analytics  "
   ]
  },
  {
   "cell_type": "markdown",
   "id": "3207a21d-8b85-485d-9f72-a804e6ffce00",
   "metadata": {},
   "source": [
    "If we think about an OLTP database that powers an application versus an OLAP database that are used for analytics, they are used in pretty different ways, and because of this, they were constructed pretty differently.  So let's start by seeing some of the differences between how an **OLTP** database is used an how an **OLAP** database is used. "
   ]
  },
  {
   "cell_type": "markdown",
   "id": "strong-halifax",
   "metadata": {},
   "source": [
    "* OLTP queries\n",
    "\n",
    "With our OLTP queries, we are performing queries for a web application.  And these queries often involve a single entity.  For example, with our ecommerce application example, we may need to return information about a single user (like the logged in user), or a single product, or a single order.   When doing so, we want to view many of the attributes in that row - like multiple details about a user or product. "
   ]
  },
  {
   "cell_type": "markdown",
   "id": "distant-covering",
   "metadata": {},
   "source": [
    "* OLAP queries\n",
    "\n",
    "With our analytical database, we may not need to know all the attributes of a single entity, but rather we care about looking at some select attributes across many different entities.  For example, we may not need to know everything about a particular user -- like the name, and street address. Rather, what's more likely would be for us to see the different zipcodes or ages across multiple users.  \n",
    "\n",
    "So to summarize, with an application's OLTP database, we often need information about an entire row at a time -- a user's name, street address, birthday, etc.  After all, you would likely see all of this information when looking at a user's profile page.  But with an OLAP database, we would need multiple rows of data, as we care generally care about information in the aggregate.  And we may only need a couple columns of data, like states and zipcodes of recent users."
   ]
  },
  {
   "cell_type": "markdown",
   "id": "b60d3c29-e0f1-46d8-b219-89b0455defe2",
   "metadata": {},
   "source": [
    "### Storage Differences"
   ]
  },
  {
   "cell_type": "markdown",
   "id": "43d7ac40-a225-4ff6-b2a0-316b9bb0bdde",
   "metadata": {},
   "source": [
    "How do databases account for these differences?  As we'll see our OLTP databases store data differently than our OLAP databases to optimize for these different kinds of queries.  It turns out that our OLTP databases take advantage of row based storage, while our OLAP databases use column based storage."
   ]
  },
  {
   "cell_type": "markdown",
   "id": "18d72e8d-d524-4905-8036-440e67f8b2b6",
   "metadata": {},
   "source": [
    "* OLTP databases - row based storage\n",
    "\n",
    "Let's start off with understanding row based storage, which our  OLTP databases use.  So let's say that we would like to store the following movies."
   ]
  },
  {
   "cell_type": "markdown",
   "id": "given-dryer",
   "metadata": {},
   "source": [
    "<img src=\"./movie-table.png\" width=\"70%\">"
   ]
  },
  {
   "cell_type": "markdown",
   "id": "c590e338-fd53-4f08-81c5-e4e651a76b65",
   "metadata": {},
   "source": [
    "Now as we know, at it's smallest possible chunk this data is stored in pages.  And with row-based database, this data is stored in pages *by row* of data sequentially."
   ]
  },
  {
   "cell_type": "markdown",
   "id": "competitive-vintage",
   "metadata": {},
   "source": [
    "> Below, you can see that we have the  with the entries of one full row and then the next full row in a single page. "
   ]
  },
  {
   "cell_type": "markdown",
   "id": "dirty-making",
   "metadata": {},
   "source": [
    "<img src=\"./row-down-storage.png\" width=\"20%\">"
   ]
  },
  {
   "cell_type": "markdown",
   "id": "selective-championship",
   "metadata": {},
   "source": [
    "We can see that first comes the contents of Pulp Fiction, and then comes the contents of Titanic and then the contents of Avatar.  Because all information from one row is near each other, it makes it faster to read information from an entire row from a disk.  \n",
    "\n",
    "This makes sense for an OLTP database where we will generally need an entire row of data at a time (like when clicking on a page about specific movie)."
   ]
  },
  {
   "cell_type": "markdown",
   "id": "asian-parish",
   "metadata": {},
   "source": [
    "* Column based storage"
   ]
  },
  {
   "cell_type": "markdown",
   "id": "consecutive-oxford",
   "metadata": {},
   "source": [
    "If row based storage stores the entries of a row sequentially, then, as we would suspect, column based storage stores the *entries of our columns* sequentially.  We can see this below."
   ]
  },
  {
   "cell_type": "markdown",
   "id": "freelance-dynamics",
   "metadata": {},
   "source": [
    "<img src=\"./total_column.png\" width=\"70%\">"
   ]
  },
  {
   "cell_type": "markdown",
   "id": "muslim-disco",
   "metadata": {},
   "source": [
    "So the diagram above is trying to illustrate that each of the columns are stored separately.  But if needed, we still have a way of keeping the values of a single row aligned with one another.\n",
    "\n",
    "So in an OLAP, the columns of data are stored sequentially.  This is of course useful, because we'll likely often need data from an entire column at once.  And because we say, may want to query the average year our movies were made, it helps that we can access all of the years data is stored sequentially.  "
   ]
  },
  {
   "cell_type": "markdown",
   "id": "71672f10-5793-4bbd-8a02-36600e3edcde",
   "metadata": {},
   "source": [
    "To make this extra clear, compare this with how the query would work with our row based storage."
   ]
  },
  {
   "cell_type": "markdown",
   "id": "0d443b2e-2021-497e-8dd5-59e8570635b7",
   "metadata": {},
   "source": [
    "<img src=\"./row-down-storage.png\" width=\"10%\">"
   ]
  },
  {
   "cell_type": "markdown",
   "id": "c2970cef-45c3-4272-822f-df2fd9567981",
   "metadata": {},
   "source": [
    "The database would need to find the year from one movie, and then the year from the second movie, finding the information in separate locations, and loading a lot of unnecessary data into memory (data about the rest of the columns).  While this is certainly possible, it's faster and more memory efficient to read a sequence of data at a time."
   ]
  },
  {
   "cell_type": "markdown",
   "id": "equal-fighter",
   "metadata": {},
   "source": [
    "### Summary"
   ]
  },
  {
   "cell_type": "markdown",
   "id": "electronic-force",
   "metadata": {},
   "source": [
    "In this lesson, we learned about how OLAP databases operate differently than OLTP databases.  As we saw, because an OLTP database is associated with an application, queries generally ask for an entire row of information at a time.  For example: "
   ]
  },
  {
   "cell_type": "markdown",
   "id": "3db2f720-b448-46ba-984c-615dd5e4fba3",
   "metadata": {},
   "source": [
    "```sql\n",
    "SELECT * FROM users WHERE id = 10 \n",
    "```"
   ]
  },
  {
   "cell_type": "markdown",
   "id": "910e89dd-d8c4-4093-bb58-b0702bad7391",
   "metadata": {},
   "source": [
    "But with an OLAP database, our queries are more likely to be queries across multiple rows, but perhaps just one or two columns of data. "
   ]
  },
  {
   "cell_type": "markdown",
   "id": "8991a107-dae8-4a62-8fea-984e740e83a4",
   "metadata": {},
   "source": [
    "```sql\n",
    "SELECT zipcode, COUNT(users.zipcode) GROUP BY zipcode;\n",
    "```"
   ]
  },
  {
   "cell_type": "markdown",
   "id": "53e9f560-d66f-4d7d-9d87-ad2591fb27b5",
   "metadata": {},
   "source": [
    "It turns out that OLAP databases are constructed differently to optimize for these column based queries.  OLAP databases take advantage of column based storage, where an entire column of data is stored sequentially."
   ]
  },
  {
   "cell_type": "markdown",
   "id": "e4132330-2bd9-4dab-876b-aedacdf23689",
   "metadata": {},
   "source": [
    "<img src=\"./total_column.png\" width=\"70%\">"
   ]
  },
  {
   "cell_type": "markdown",
   "id": "89069419-7f00-466b-b3e6-9aa85b512b70",
   "metadata": {},
   "source": [
    "This allows for the database to more easily read a column of data from disk at once.  By contrast, our OLTP databases take advantage of row based storage, where an entire row of data is stored sequentially.  "
   ]
  },
  {
   "cell_type": "markdown",
   "id": "8953b8bc-b77f-4408-b881-a516a9b452ce",
   "metadata": {},
   "source": [
    "<img src=\"./row-down-storage.png\" width=\"20%\">"
   ]
  },
  {
   "cell_type": "markdown",
   "id": "photographic-burst",
   "metadata": {},
   "source": [
    "### Resources\n",
    "\n",
    "[Redshift Advanced Design](https://aws.amazon.com/blogs/big-data/amazon-redshift-engineerings-advanced-table-design-playbook-compound-and-interleaved-sort-keys/)"
   ]
  },
  {
   "cell_type": "markdown",
   "id": "identified-trade",
   "metadata": {},
   "source": [
    "[Redshift deep dive video](https://youtu.be/iuQgZDs-W7A?t=578)\n",
    "\n",
    "[Redshift sorting and zone maps blog](https://dev.to/ronsoak/the-r-a-g-redshift-analyst-guide-sorting-zone-maps-51cf)"
   ]
  }
 ],
 "metadata": {
  "kernelspec": {
   "display_name": "Python 3 (ipykernel)",
   "language": "python",
   "name": "python3"
  },
  "language_info": {
   "codemirror_mode": {
    "name": "ipython",
    "version": 3
   },
   "file_extension": ".py",
   "mimetype": "text/x-python",
   "name": "python",
   "nbconvert_exporter": "python",
   "pygments_lexer": "ipython3",
   "version": "3.9.7"
  }
 },
 "nbformat": 4,
 "nbformat_minor": 5
}
