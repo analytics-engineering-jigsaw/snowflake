{
 "cells": [
  {
   "cell_type": "markdown",
   "id": "copyrighted-lawrence",
   "metadata": {},
   "source": [
    "# Shared Everything vs Shared Nothing "
   ]
  },
  {
   "cell_type": "markdown",
   "id": "strong-supplement",
   "metadata": {},
   "source": [
    "### Introduction"
   ]
  },
  {
   "cell_type": "markdown",
   "id": "78396d72-e8d8-4795-a03b-c1ea5748a2f9",
   "metadata": {},
   "source": [
    "Now so far when thinking about databases, we have assumed that the all of the hardware powering a database is located on a single computer.  But analytical databases are designed to handle large amounts of data.  Analytical databases handle this by being *distributed databases*.  By distributed, we mean that the hard drives, CPU, and memory may be distributed across multiple computers.\n",
    "\n",
    "In this lesson, we'll see how different kinds of analytical databases employ different distribution strategies and the impact and tradeoffs in this design."
   ]
  },
  {
   "cell_type": "markdown",
   "id": "2ff49460-0e65-43e2-b71a-97ea9b7bb3b5",
   "metadata": {},
   "source": [
    "### Shared Everything Storage"
   ]
  },
  {
   "cell_type": "markdown",
   "id": "c5685441-411a-4374-a5f4-f222a484a240",
   "metadata": {},
   "source": [
    "Below we can see one diagram representing a distributed database."
   ]
  },
  {
   "cell_type": "markdown",
   "id": "ada2ffc1-2383-4e18-82b9-c9b67348e346",
   "metadata": {},
   "source": [
    "<img src=\"./share-storage.jpg\" width=\"60%\">"
   ]
  },
  {
   "cell_type": "markdown",
   "id": "057b0626-8d31-4f69-8c75-8df5396f41e7",
   "metadata": {},
   "source": [
    "In the diagram above, each of the nodes 1 - 4 represents a different computer -- managed by different internal users looking to query the database.  Each computer has access to the entire cluster of computing resources (indicated by storage layer below).    \n",
    "\n",
    "We can think of storage layer as one big computer (although it may consist of a cluster of computers), where the data lives.  A user may make a query from say node 1, to query any of the data that lives in the storage layer.\n",
    "\n",
    "When the storage layer receives a request from a node, it will need to use some of it's CPU resources to perform the query and send back the relevant data to the node."
   ]
  },
  {
   "cell_type": "markdown",
   "id": "d9565972-fb80-4303-82ee-26b08090b67b",
   "metadata": {},
   "source": [
    "<img src=\"./share-storage.jpg\" width=\"60%\">"
   ]
  },
  {
   "cell_type": "markdown",
   "id": "3a91e9b5-49a6-453b-8ca3-3c6db2dd5dec",
   "metadata": {},
   "source": [
    "This strategy above is called a shared-everything strategy because any node can issue requests to retrieve data part of the database.  And from the data's perspective, it shares the same compute resources at the storage layer for any data processing."
   ]
  },
  {
   "cell_type": "markdown",
   "id": "dac1cff0-684a-46fc-81a7-674f7877639b",
   "metadata": {},
   "source": [
    "As we may imagine, as there becomes more data, and more nodes requesting this data, it's hard for this strategy to scale."
   ]
  },
  {
   "cell_type": "markdown",
   "id": "65c4bd2e-e238-401e-84e7-b29684ce6472",
   "metadata": {},
   "source": [
    "> An example of a shared everything database is the Oracle RAC database from 2001."
   ]
  },
  {
   "cell_type": "markdown",
   "id": "planned-champion",
   "metadata": {},
   "source": [
    "### Shared Nothing Storage"
   ]
  },
  {
   "cell_type": "markdown",
   "id": "c57ad624-dff7-4755-b89b-fa6fb7481e35",
   "metadata": {},
   "source": [
    "From the shared everything strategy came the shared nothing strategy.  By shared nothing we mean that data is partitioned across multiple computers, and each partition of data is allocated it's own compute and memory resources."
   ]
  },
  {
   "cell_type": "markdown",
   "id": "5bca7e72-1c5d-4283-ac91-e1767f11b74e",
   "metadata": {},
   "source": [
    "Let's see this below."
   ]
  },
  {
   "cell_type": "markdown",
   "id": "c3e60fd0-96cb-40dc-867f-fb5c012a5bc8",
   "metadata": {},
   "source": [
    "> Again, by multiple **nodes** we mean multiple computers."
   ]
  },
  {
   "cell_type": "markdown",
   "id": "authorized-partner",
   "metadata": {},
   "source": [
    "<img src=\"./distributed.jpg\" width=\"100%\">"
   ]
  },
  {
   "cell_type": "markdown",
   "id": "adapted-pregnancy",
   "metadata": {},
   "source": [
    "So above we can see that that our shared nothing database has partitioned the movies table across four separate nodes, with data spread across each computer."
   ]
  },
  {
   "cell_type": "markdown",
   "id": "young-camping",
   "metadata": {},
   "source": [
    "So with a shared nothing database we may partition data from a single table across multiple computers. One of the benefits of partitioning our data across multiple slices, is that the shared nothing database can perform a single query in parallel on each slice.  For example, let's say we perform the following query: "
   ]
  },
  {
   "cell_type": "markdown",
   "id": "greater-ladder",
   "metadata": {},
   "source": [
    "> `SELECT AVG(Year) FROM movies;`"
   ]
  },
  {
   "cell_type": "markdown",
   "id": "ahead-gathering",
   "metadata": {},
   "source": [
    "The shared nothing database will perform this query on each slice of the data and then aggregate the results.  Here's how this occurs.  "
   ]
  },
  {
   "cell_type": "markdown",
   "id": "forty-thumbnail",
   "metadata": {},
   "source": [
    "<img src=\"./distributed-query.jpg\" width=\"100%\">"
   ]
  },
  {
   "cell_type": "markdown",
   "id": "bd0c9d41-eb2e-4b54-add4-0fabbed89852",
   "metadata": {},
   "source": [
    "> The shared nothing database applies the same operation across different slices (mapping) -- here the average -- and then combines the results (reducing)."
   ]
  },
  {
   "cell_type": "markdown",
   "id": "weighted-junction",
   "metadata": {},
   "source": [
    "Above each partition of data gets its own memory and compute resources.  So we don't have this bottleneck of compute resources that we had previously, as when more data is added, more compute resources are added dedicated to each partition of data.\n",
    "\n",
    "Notice in the above, we have the leader node in yellow, and then the compute nodes in the second layer."
   ]
  },
  {
   "cell_type": "markdown",
   "id": "catholic-automation",
   "metadata": {},
   "source": [
    "* **Leader node**\n",
    "\n",
    "The leader node receives queries from external clients.  The leader node then determines the plan of attack for the compute nodes to execute the query.\n",
    "\n",
    "* **Compute nodes**\n",
    "\n",
    "Each compute node has it's own dedicated hard drive, memory and CPU resources.  Each compute node queries it's own data, and operations can be performed across nodes in parallel."
   ]
  },
  {
   "cell_type": "markdown",
   "id": "3fe2dd7c-6ea3-43e2-9a9c-462cadff7d94",
   "metadata": {},
   "source": [
    "> The above is architecture is based on Amazon's redshift analytical database."
   ]
  },
  {
   "cell_type": "markdown",
   "id": "c6a33654-6e10-47c5-8073-d0fc202c77cf",
   "metadata": {},
   "source": [
    "### Summary"
   ]
  },
  {
   "cell_type": "markdown",
   "id": "183ed68e-3753-4cc1-8988-182967015952",
   "metadata": {},
   "source": [
    "In the lesson above, we learned about two different architectures for analytical databases -- the shared everything architecture and the shared nothing architecture.  With shared everything, there is as common pool of compute resources that process a query of any data.  And with shared nothing, each partition of data is given it's own allocation of CPU and memory.  So with shared nothing, the CPU resources increase as the amount of data increases.  This is the architecture taken by databases like Amazon's redshift."
   ]
  },
  {
   "cell_type": "markdown",
   "id": "expressed-debate",
   "metadata": {},
   "source": [
    "### Resources\n",
    "\n",
    "[Snowflake Strategy](https://blog.ippon.tech/innovative-snowflake-features-caching/)\n",
    "\n",
    "[Redshift Deep Dive](https://www.youtube.com/watch?t=578&v=iuQgZDs-W7A&feature=youtu.be&ab_channel=AWSOnlineTechTalks)\n",
    "\n",
    "[Detailed View Inside Snowflake](https://www.snowflake.com/wp-content/uploads/2014/10/A-Detailed-View-Inside-Snowflake.pdf)\n",
    "\n",
    "[Snowflake Architecture](https://www.snowflake.com/blog/5-reasons-to-love-snowflakes-architecture-for-your-data-warehouse/)\n",
    "\n",
    "[Ben Stopford - Shared Nothing](http://www.benstopford.com/2009/11/24/understanding-the-shared-nothing-architecture/)"
   ]
  },
  {
   "cell_type": "code",
   "execution_count": null,
   "id": "d7356441-1f27-4d37-b195-153af7837d22",
   "metadata": {},
   "outputs": [],
   "source": []
  }
 ],
 "metadata": {
  "kernelspec": {
   "display_name": "Python 3 (ipykernel)",
   "language": "python",
   "name": "python3"
  },
  "language_info": {
   "codemirror_mode": {
    "name": "ipython",
    "version": 3
   },
   "file_extension": ".py",
   "mimetype": "text/x-python",
   "name": "python",
   "nbconvert_exporter": "python",
   "pygments_lexer": "ipython3",
   "version": "3.9.7"
  }
 },
 "nbformat": 4,
 "nbformat_minor": 5
}
