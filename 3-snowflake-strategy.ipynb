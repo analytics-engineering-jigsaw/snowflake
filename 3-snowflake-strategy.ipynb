{
 "cells": [
  {
   "cell_type": "markdown",
   "id": "bf1d0654-44b4-4dc2-939f-988d89e28e53",
   "metadata": {},
   "source": [
    "# Snowflake Strategy"
   ]
  },
  {
   "cell_type": "code",
   "execution_count": null,
   "id": "3990ace8-0465-470b-ae33-0f87ddcddc08",
   "metadata": {},
   "outputs": [],
   "source": []
  },
  {
   "cell_type": "markdown",
   "id": "1d4ad541-8232-4af8-87e6-c6f8c42cc497",
   "metadata": {},
   "source": [
    "### Resources\n",
    "\n",
    "[Features Caching](https://blog.ippon.tech/innovative-snowflake-features-caching/)\n",
    "\n",
    "[Snowflake Caching - Plans](https://sonra.io/snowflake/deep-dive-on-caching-in-snowflake/)"
   ]
  },
  {
   "cell_type": "markdown",
   "id": "d9d628c1-bd1b-47e1-a077-1ee10f5136e2",
   "metadata": {},
   "source": [
    "[Snowflake - Databases Perspective](https://www.snowflake.com/wp-content/uploads/2014/10/A-Detailed-View-Inside-Snowflake.pdf)"
   ]
  }
 ],
 "metadata": {
  "kernelspec": {
   "display_name": "Python 3 (ipykernel)",
   "language": "python",
   "name": "python3"
  },
  "language_info": {
   "codemirror_mode": {
    "name": "ipython",
    "version": 3
   },
   "file_extension": ".py",
   "mimetype": "text/x-python",
   "name": "python",
   "nbconvert_exporter": "python",
   "pygments_lexer": "ipython3",
   "version": "3.9.7"
  }
 },
 "nbformat": 4,
 "nbformat_minor": 5
}
