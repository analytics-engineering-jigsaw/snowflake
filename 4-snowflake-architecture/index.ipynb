{
 "cells": [
  {
   "cell_type": "markdown",
   "id": "148f8821-3491-4399-a8bc-c8ffcc41db83",
   "metadata": {},
   "source": [
    "# Snowflake Architecture"
   ]
  },
  {
   "cell_type": "markdown",
   "id": "bf36c935-41ab-48ff-8f70-464fff868a1f",
   "metadata": {},
   "source": [
    "### Introduction"
   ]
  },
  {
   "cell_type": "markdown",
   "id": "825f5cc7-df31-4d3a-8f6c-b83e51c24883",
   "metadata": {},
   "source": [
    "So far, we've learned about two different kinds of architectures for data warehouses.  \n",
    "\n",
    "1. Shared everything \n",
    "\n",
    "We learned about shared everything architecture, where multiple different nodes connect to a storage layer, where data in permanently stored."
   ]
  },
  {
   "cell_type": "markdown",
   "id": "1421ee82-b809-49a7-bc2a-cb704e4e95b3",
   "metadata": {},
   "source": [
    "<img src=\"./share-storage.jpg\" width=\"60%\">"
   ]
  },
  {
   "cell_type": "markdown",
   "id": "02145a5a-f3d6-406d-b8f9-e084d0810e92",
   "metadata": {},
   "source": [
    "Because some processing occurs in the storage layer, this shared everything architecture can have difficulty scaling as more nodes are added."
   ]
  },
  {
   "cell_type": "markdown",
   "id": "fe9c9d99-b627-43ba-be6d-aeeb82467f50",
   "metadata": {},
   "source": [
    "2. Shared nothing architecture"
   ]
  },
  {
   "cell_type": "markdown",
   "id": "b2f4fa61-4b45-4242-9e15-51831114e730",
   "metadata": {},
   "source": [
    "In the shared-nothing architecture, our data is partitioned across multiple nodes."
   ]
  },
  {
   "cell_type": "markdown",
   "id": "99077708-387e-4904-83df-9b4b8c0b4a0d",
   "metadata": {},
   "source": [
    "<img src=\"./distributed-query.jpg\" width=\"100%\">"
   ]
  },
  {
   "cell_type": "markdown",
   "id": "9180a173-4b1b-4095-8434-102c0a6ce0b8",
   "metadata": {},
   "source": [
    "And each partition of data is given allocated a set of memory and CPU resources.  This way, our computing resources scale up as our data scales up."
   ]
  },
  {
   "cell_type": "markdown",
   "id": "b1c3ddff-ce5a-4813-88a9-d8bfc66af9e1",
   "metadata": {},
   "source": [
    "### From shared nothing to isolated compute"
   ]
  },
  {
   "cell_type": "markdown",
   "id": "d501dc76-61a8-453b-9985-733c1f29a476",
   "metadata": {},
   "source": [
    "While it may seem sensible to scale CPU and memory resources (ie. compute resources) as our data scales, it may turn out that the amount of compute resources does not depend on the amount of stored data.  For example, we may simply need more computing power because more users are querying the data, and thus want to increase the computing power.  And if at a later time the amount of queries reduce, we may need less computing power than the amount dedicated in a shared nothing architecture.   "
   ]
  },
  {
   "cell_type": "markdown",
   "id": "505927e1-caf4-427c-a0fa-165ed44a32eb",
   "metadata": {},
   "source": [
    "Snowflake recognizes that computing needs may vary from storage needs.  And that computing needs may even increase or decrease over time, as consumers of the data change.  Because of this, with snowflake, the storage layer is completely isolated from the compute layer."
   ]
  },
  {
   "cell_type": "markdown",
   "id": "96d51441-a696-4adc-bead-a8fc01b20dff",
   "metadata": {},
   "source": [
    "> In snowflake, each of the four compute groups are referred to as a separate virtual warehouse.  We no longer refer to them as a node, because each virtual warehouse may actually consist of a cluster of nodes, if needed."
   ]
  },
  {
   "cell_type": "markdown",
   "id": "5caf4617-df2a-46ef-9547-d515af82b08f",
   "metadata": {},
   "source": [
    "<img src=\"./snowflake-storage-compute.jpg\" width=\"60%\">"
   ]
  },
  {
   "cell_type": "markdown",
   "id": "3b10b0b3-1f91-4ca4-b368-fa0259c97edc",
   "metadata": {},
   "source": [
    "Notice that the architecture above is almost like our shared storage architecture -- but the main difference with snowflake, is that there is no compute at the storage layer.  And because of this, there is no a bottleneck as different requests are issued. "
   ]
  },
  {
   "cell_type": "markdown",
   "id": "4104a42f-993a-4493-8f49-69b2be80aa19",
   "metadata": {},
   "source": [
    "So by completely isolating compute from storage we avoid the issues of the previous two systems:\n",
    "\n",
    "1. Concurrency - Concurrency issues occur when a system has difficulty accessing more simultaneous requests.  This occurred with our shared everything system as when more nodes issued requests, the storage layer's compute could not keep up.\n",
    "\n",
    "2. Inflexible Compute and Storage Allocations - The shared nothing approach of databases like Amazon's redshift scaled compute along with the size of the database.  With snowflake, compute can be scaled up or down independently of storage.  And storage capacity can be scaled independently of compute.    "
   ]
  },
  {
   "cell_type": "markdown",
   "id": "e08bf073-6c7d-4e81-b843-08d70b298264",
   "metadata": {},
   "source": [
    "### Services Layer"
   ]
  },
  {
   "cell_type": "markdown",
   "id": "ea249207-47d1-40a0-8493-3fce704cf8c7",
   "metadata": {},
   "source": [
    "Now let's take another look at our diagram of snowflake's architecture below.  A user may issue a query through one of the virtual warehouses in the compute layer and then that node is responsible for finding the relevant data in the storage layer.  "
   ]
  },
  {
   "cell_type": "markdown",
   "id": "a95f0db3-fe21-4b26-97ae-153c46a975e4",
   "metadata": {},
   "source": [
    "<img src=\"./snowflake-storage-compute.jpg\" width=\"60%\">"
   ]
  },
  {
   "cell_type": "markdown",
   "id": "bed6553d-ec3d-416a-8b04-2f05e1841802",
   "metadata": {},
   "source": [
    "Now remember that there may be a massive amount of files that hold our data in the storage layer.  So it would be nice if a virtual warehouse did not have to search through all of these files to find the relevant data.  For this purpose (and others) snowflake also has a services layer."
   ]
  },
  {
   "cell_type": "markdown",
   "id": "5cc29e1b-53e5-4051-84a1-8a9b34073836",
   "metadata": {},
   "source": [
    "<img src=\"./snowflake-with-services.jpg\" width=\"60%\">"
   ]
  },
  {
   "cell_type": "markdown",
   "id": "2fa52ada-bfb0-458a-9433-467efebd3040",
   "metadata": {},
   "source": [
    "In the services layer, snowflake stores metadata information -- like the files that certain tables live, and the range of values within those files.  So when a query is issued through a virtual warehouse, the virtual warehouse may first find which files the relevant data lives through the services layer, before then performing the query.\n",
    "\n",
    "The services layer performs other useful functions. It contains a query optimizer to help plan queries, and also performs authentication and authorization services."
   ]
  },
  {
   "cell_type": "markdown",
   "id": "83f23fce-923e-49f8-9efc-2f8ad3253ee6",
   "metadata": {},
   "source": [
    "### Summary"
   ]
  },
  {
   "cell_type": "markdown",
   "id": "cd10cfe9-e850-46be-8c75-9b3f5e38432e",
   "metadata": {},
   "source": [
    "In this lesson we learned about the different layers in snowflake.  We learned that snowflake has a complete separation of the storage layer from the compute layer.  This allows us to scale up or down the compute layer irrespective of the amount of data stored.  This differs from the shared nothing approach, where each partition of data is allocated it's own compute resources.\n",
    "\n",
    "We also learned that unlike in the shared everything approach, there are no compute resources that live at the storage layer.  Instead, snowflake employs a service layer that keeps track of metadata -- like what tables live in what files -- this way the virtual warehouses can efficiently search for data."
   ]
  }
 ],
 "metadata": {
  "kernelspec": {
   "display_name": "Python 3 (ipykernel)",
   "language": "python",
   "name": "python3"
  },
  "language_info": {
   "codemirror_mode": {
    "name": "ipython",
    "version": 3
   },
   "file_extension": ".py",
   "mimetype": "text/x-python",
   "name": "python",
   "nbconvert_exporter": "python",
   "pygments_lexer": "ipython3",
   "version": "3.9.7"
  }
 },
 "nbformat": 4,
 "nbformat_minor": 5
}
