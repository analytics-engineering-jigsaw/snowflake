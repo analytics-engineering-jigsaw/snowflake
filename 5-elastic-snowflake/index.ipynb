{
 "cells": [
  {
   "cell_type": "markdown",
   "id": "2c6c14f8-3bca-4343-a82a-9ea6a8b47cd1",
   "metadata": {},
   "source": [
    "# Cloud Based Snowflake"
   ]
  },
  {
   "cell_type": "markdown",
   "id": "da7de4a2-24e5-4ffc-b4f5-2dcea2c1ce61",
   "metadata": {},
   "source": [
    "### Introduction"
   ]
  },
  {
   "cell_type": "markdown",
   "id": "49ef03b2-00c4-427e-b475-34626126a839",
   "metadata": {},
   "source": [
    "In the last lesson, we spoke about the three different layers of snowflake -- the storage layer, the compute layer, and the services layer.  As we saw, unlike previous architectures, with snowflake our storage layer is completely isolated from the compute layer. "
   ]
  },
  {
   "cell_type": "markdown",
   "id": "0b3ce16b-cc14-4c88-b0cb-e99bd1a019d5",
   "metadata": {},
   "source": [
    "<img src=\"./snowflake-storage-compute.jpg\" width=\"60%\">"
   ]
  },
  {
   "cell_type": "markdown",
   "id": "3a539867-c5d7-4bcb-bc3c-28ce48756cb8",
   "metadata": {},
   "source": [
    "And we saw that, our services layer stores metadata, which keeps track of where data in our storage layer lives.  When the compute layer makes a query, it may first consult the compute layer to determine which files to query to find the relevant data. "
   ]
  },
  {
   "cell_type": "markdown",
   "id": "350cfc67-a0ce-40bd-ba99-ea0415666ca5",
   "metadata": {},
   "source": [
    "<img src=\"./snowflake-with-services.jpg\" width=\"60%\">"
   ]
  },
  {
   "cell_type": "markdown",
   "id": "ba7ad26b-b6d9-4aa7-a82b-59d56f27706e",
   "metadata": {},
   "source": [
    "Now under the hood, snowflake is relying on either AWS or Google Cloud services to store and query the data.  We can decide to use one or the other when we sign up for snowflake -- but for our purposes, we'll just use AWS."
   ]
  },
  {
   "cell_type": "markdown",
   "id": "cfdaafda-54ab-46ed-9d31-bcde0d8bf6b3",
   "metadata": {},
   "source": [
    "### Seeing the Storage Layer"
   ]
  },
  {
   "cell_type": "markdown",
   "id": "ea7655f0-c731-4035-9a62-497b00b170c1",
   "metadata": {},
   "source": [
    "In snowflake, when we store data in the storage layer, really we are storing it in Amazon S3."
   ]
  },
  {
   "cell_type": "markdown",
   "id": "e8e26765-f174-48ad-b6a9-65021a936bc5",
   "metadata": {},
   "source": [
    "<img src=\"./aws-s3.png\" width=\"70%\">"
   ]
  },
  {
   "cell_type": "markdown",
   "id": "426576bc-8ab9-4c4d-9dd9-3ed38c2f4bde",
   "metadata": {},
   "source": [
    "Now S3 is just a file storage service -- and we can think of it like storing files in Dropbox, or icloud.  Of course, it does have capabilities designed programming purposes.  For example, it ensures fast access to the data (that is low latency), high availability (the service rarely has our data unavailable), and easily scalable.\n",
    "\n",
    "Snowflake uses S3 to store our data -- and takes advantage of S3 allowing us to have low latency, high availability and scalable storage.  But most importantly, there are *no* computing resources here.  We are simply storing our data, using S3 as a cloud based hard drive -- and there is no compute available to us at this layer. \n",
    "\n",
    "> So when we see a diagram of the storage layer, just remember that really this just represents files being stored in S3."
   ]
  },
  {
   "cell_type": "markdown",
   "id": "5a13bce1-5a76-4341-9efa-2bea2361a2d5",
   "metadata": {},
   "source": [
    "<img src=\"./snowflake-storage.jpg\" width=\"20%\"> $= $   <img src=\"./aws-s3.png\" width=\"40%\">"
   ]
  },
  {
   "cell_type": "markdown",
   "id": "a7f77804-e338-43db-a025-e724cbd5ee53",
   "metadata": {},
   "source": [
    "### Seeing the Compute Layer"
   ]
  },
  {
   "cell_type": "markdown",
   "id": "61f5b9ec-08b5-4dea-9d8f-37c855929ba2",
   "metadata": {},
   "source": [
    "Now because the storage layer is just a hard drive, to perform a query on this data, we need to add one or more virtual warehouses, which we use to query data from our S3 storage.  We refer to these one or more virtual warehouses as our compute layer. "
   ]
  },
  {
   "cell_type": "markdown",
   "id": "eaa5cc85-49a5-4011-8f6b-7ce497921006",
   "metadata": {},
   "source": [
    "<img src=\"./snowflake-storage-compute.jpg\" width=\"60%\">"
   ]
  },
  {
   "cell_type": "markdown",
   "id": "d43a13d9-ac79-4f40-9af5-76e02c5284dd",
   "metadata": {},
   "source": [
    "Now each virtual warehouse is just one or more EC2 machines.  If S3 is a hard drive that exists in the cloud, then an EC2 machine is a cloud based computer that AWS makes available to us.  "
   ]
  },
  {
   "cell_type": "markdown",
   "id": "2337fd32-04b0-45b4-847a-611a0e532969",
   "metadata": {},
   "source": [
    "<img src=\"./ec2-dashboard.png\" width=\"80%\">"
   ]
  },
  {
   "cell_type": "markdown",
   "id": "596ce2c1-ccf6-4d4c-9570-92445085e9ee",
   "metadata": {},
   "source": [
    "Remember, when we think of a computer really this is machine that has CPU, memory and hard drive on it.  And so the EC2 machine will read the data from S3, and then query and process that data. "
   ]
  },
  {
   "cell_type": "markdown",
   "id": "9f397f41-fc70-4230-a54c-5eade189c948",
   "metadata": {},
   "source": [
    "Now when we say virtual warehouse in snowflake, this can actually be more than one EC2 machine."
   ]
  },
  {
   "cell_type": "markdown",
   "id": "ecec1873-5205-4348-a378-a6710d7ce706",
   "metadata": {},
   "source": [
    "<img src=\"./dw-3.jpg\" width=\"30%\">"
   ]
  },
  {
   "cell_type": "markdown",
   "id": "c48bff3c-4568-4a6e-b5ce-d5b5a093e87a",
   "metadata": {},
   "source": [
    "So, we can scale up our computing power to allow for faster queries.  And these queries can occur faster with more computing power, because snowflake will process the data in parallel just like we saw with our shared nothing architecture."
   ]
  },
  {
   "cell_type": "markdown",
   "id": "a917eb7a-d5b2-4184-a5f4-9e014ea1df1f",
   "metadata": {},
   "source": [
    "<img src=\"./distributed-data.jpg\" width=\"40%\">"
   ]
  },
  {
   "cell_type": "markdown",
   "id": "23bcde9c-91ad-40ae-aabe-da556bcbbd20",
   "metadata": {},
   "source": [
    "So each compute can query a different partition of the data in parallel, and then these results can be aggregated to return the result to the user.  \n",
    "\n",
    "> Remember, that the distribution of the these queries is called mapping, and when we aggregate the results we are reducing.  Finally, this is also referred to as massively parallel processing, or MPP."
   ]
  },
  {
   "cell_type": "markdown",
   "id": "be3519c2-7e0f-4d9e-94e7-6841eb79f4a2",
   "metadata": {},
   "source": [
    "Then of course, we may have multiple virtual warehouses -- oftentimes there may be a separate virtual warehouse for each team (marketing, data science, etc.).  This way an organization can better keep track as to the types and amount of queries that each team is performing."
   ]
  },
  {
   "cell_type": "markdown",
   "id": "7a157290-015c-4b45-ac68-a460092f2ef3",
   "metadata": {},
   "source": [
    "<img src=\"./data-warehouses.jpg\" width=\"40%\">"
   ]
  },
  {
   "cell_type": "markdown",
   "id": "9c8fa94b-46d1-483b-a699-bbeb1d5fd656",
   "metadata": {},
   "source": [
    "And each virtual warehouse is just a separate cluster of EC2 machines."
   ]
  },
  {
   "cell_type": "markdown",
   "id": "aae5fa03-7bea-45f3-a52e-4749ae5dfde9",
   "metadata": {},
   "source": [
    "### Summary"
   ]
  },
  {
   "cell_type": "markdown",
   "id": "c61dfc74-c0a3-48f8-ab75-ee4ac45b9dd9",
   "metadata": {},
   "source": [
    "In this lesson, we learned about how snowflake uses cloud based services, and how this powers both the storage and compute layers of snowflake.  The storage layer just consists of S3, which is a service that stores files, and which we use to store the data in our database."
   ]
  },
  {
   "cell_type": "markdown",
   "id": "1df46960-a7e4-4796-a110-9148985cffbf",
   "metadata": {},
   "source": [
    "<img src=\"./snowflake-storage.jpg\" width=\"20%\"> $= $   <img src=\"./aws-s3.png\" width=\"40%\">"
   ]
  },
  {
   "cell_type": "markdown",
   "id": "00294f10-4c17-428f-8846-7f60b19b98e8",
   "metadata": {},
   "source": [
    "The important thing is that there are no compute resources available at this layer.  Instead, we to perform queries, we will create a virtual warehouse, which consists of one more EC2 machines.  And an EC2 machine is simply a computer, made available through AWS."
   ]
  },
  {
   "cell_type": "markdown",
   "id": "6ebcce1f-60f8-4fdb-8532-0749ac40774a",
   "metadata": {},
   "source": [
    "<img src=\"./dw-3.jpg\" width=\"20%\">"
   ]
  },
  {
   "cell_type": "markdown",
   "id": "f419fdb7-0652-4a67-abc6-a010445c9505",
   "metadata": {},
   "source": [
    "By having a cluster of computers, a virtual warehouse can use map reduce to query different parititions of data in parallel when performing a query."
   ]
  },
  {
   "cell_type": "markdown",
   "id": "674e7d4d-66a2-4f18-8d77-3423d52d9871",
   "metadata": {},
   "source": [
    "<img src=\"./data-warehouses.jpg\" width=\"30%\">"
   ]
  },
  {
   "cell_type": "markdown",
   "id": "13f43cf0-afbc-42cc-87fa-44e52f611762",
   "metadata": {},
   "source": [
    "### Resources"
   ]
  },
  {
   "cell_type": "markdown",
   "id": "476d626e-d868-4346-a9c0-a3e3012b6124",
   "metadata": {},
   "source": [
    "[Micropartitions](https://docs.snowflake.com/en/user-guide/tables-clustering-micropartitions.html)\n",
    "\n",
    "[FoundationDB and Metadata](https://www.snowflake.com/blog/how-foundationdb-powers-snowflake-metadata-forward/)"
   ]
  }
 ],
 "metadata": {
  "kernelspec": {
   "display_name": "Python 3 (ipykernel)",
   "language": "python",
   "name": "python3"
  },
  "language_info": {
   "codemirror_mode": {
    "name": "ipython",
    "version": 3
   },
   "file_extension": ".py",
   "mimetype": "text/x-python",
   "name": "python",
   "nbconvert_exporter": "python",
   "pygments_lexer": "ipython3",
   "version": "3.9.7"
  }
 },
 "nbformat": 4,
 "nbformat_minor": 5
}
