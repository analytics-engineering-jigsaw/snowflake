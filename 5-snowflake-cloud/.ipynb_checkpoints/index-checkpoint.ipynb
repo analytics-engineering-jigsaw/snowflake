{
 "cells": [
  {
   "cell_type": "markdown",
   "id": "2c6c14f8-3bca-4343-a82a-9ea6a8b47cd1",
   "metadata": {},
   "source": [
    "# Elastic Snowflake"
   ]
  },
  {
   "cell_type": "markdown",
   "id": "cfdaafda-54ab-46ed-9d31-bcde0d8bf6b3",
   "metadata": {},
   "source": [
    "### Elastic Because Cloudbased"
   ]
  },
  {
   "cell_type": "markdown",
   "id": "9ed2f025-a265-4d19-aaf1-9f4225dfc05e",
   "metadata": {},
   "source": [
    "1. Storage Just S3\n",
    "1. Compute - Just Ec2 machines\n",
    "    * Notice can issue MPP by employing multiple computes\n",
    "    * Perhaps move the mapreduce content from shared nothing vs shared everything to here\n",
    "3. Services Layer - long standing EC2 managed by snowflake"
   ]
  },
  {
   "cell_type": "markdown",
   "id": "990202b9-7b82-4d4c-82df-ccf9a8c117be",
   "metadata": {
    "tags": []
   },
   "source": [
    "### Micropartitions"
   ]
  },
  {
   "cell_type": "markdown",
   "id": "e035d7b5-723e-44cc-b291-2a5985170a78",
   "metadata": {},
   "source": [
    "* How data is stored, and how snowflake finds it"
   ]
  },
  {
   "cell_type": "markdown",
   "id": "77d66e91-5f27-4280-bdda-39799ee3aebf",
   "metadata": {},
   "source": [
    "### Caching in Snowflake"
   ]
  },
  {
   "cell_type": "markdown",
   "id": "539820c6-53ac-4907-9373-ed8f0640b8bb",
   "metadata": {},
   "source": [
    "* At Query level, and EC2"
   ]
  },
  {
   "cell_type": "markdown",
   "id": "13f43cf0-afbc-42cc-87fa-44e52f611762",
   "metadata": {},
   "source": [
    "### Resources"
   ]
  },
  {
   "cell_type": "markdown",
   "id": "476d626e-d868-4346-a9c0-a3e3012b6124",
   "metadata": {},
   "source": [
    "[Micropartitions](https://docs.snowflake.com/en/user-guide/tables-clustering-micropartitions.html)\n",
    "\n",
    "[FoundationDB and Metadata](https://www.snowflake.com/blog/how-foundationdb-powers-snowflake-metadata-forward/)"
   ]
  }
 ],
 "metadata": {
  "kernelspec": {
   "display_name": "Python 3 (ipykernel)",
   "language": "python",
   "name": "python3"
  },
  "language_info": {
   "codemirror_mode": {
    "name": "ipython",
    "version": 3
   },
   "file_extension": ".py",
   "mimetype": "text/x-python",
   "name": "python",
   "nbconvert_exporter": "python",
   "pygments_lexer": "ipython3",
   "version": "3.9.7"
  }
 },
 "nbformat": 4,
 "nbformat_minor": 5
}
