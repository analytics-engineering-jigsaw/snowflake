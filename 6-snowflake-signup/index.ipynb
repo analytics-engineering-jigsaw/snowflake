{
 "cells": [
  {
   "cell_type": "markdown",
   "id": "45fe7de9-6629-4747-a5bb-694ddb53f78a",
   "metadata": {},
   "source": [
    "# Signing up for Snowflake"
   ]
  },
  {
   "cell_type": "markdown",
   "id": "2789dd1e-1387-43ba-adb2-ef7ffa67a1e1",
   "metadata": {},
   "source": [
    "### Introduction"
   ]
  },
  {
   "cell_type": "markdown",
   "id": "e774bdb3-2929-4c54-9e1e-7bbec0345590",
   "metadata": {},
   "source": [
    "Now that we know a little bit about why we would want a separate database to store our analytics database.  Let's get started with signing up for snowflake."
   ]
  },
  {
   "cell_type": "markdown",
   "id": "25fdaa16-8d11-4375-9dae-ebca2311100c",
   "metadata": {},
   "source": [
    "### Signing Up"
   ]
  },
  {
   "cell_type": "markdown",
   "id": "d0942193-b335-42cd-a5aa-3f14d314436f",
   "metadata": {},
   "source": [
    "Let's get started by signing up for Snowflake.  We can do so by going to [the Snowflake Signup page](https://signup.snowflake.com/).  Then enter your related information and click continue.  We'll then be taken to the following.  Select AWS as our cloud provider, and choose a region close to where our analytics team is residing.  "
   ]
  },
  {
   "cell_type": "markdown",
   "id": "b34484ca-c7c6-42b0-940f-17e3fef384d5",
   "metadata": {},
   "source": [
    "<img src=\"./choose-cloud-host.png\" width=\"30%\">"
   ]
  },
  {
   "cell_type": "markdown",
   "id": "21e835d7-8015-40a3-b5e9-7831f0b08b47",
   "metadata": {},
   "source": [
    "You'll receive a confirmation email with the following image."
   ]
  },
  {
   "cell_type": "markdown",
   "id": "742f46dc-a99b-45db-9bd9-33eb240320b2",
   "metadata": {},
   "source": [
    "> <img src=\"./activate.png\" width=\"30%\">"
   ]
  },
  {
   "cell_type": "markdown",
   "id": "b335b823-4041-4adf-99a9-851ead221073",
   "metadata": {},
   "source": [
    "And then once we click the `click to activate` button, we'll be taken to snowflake."
   ]
  },
  {
   "cell_type": "markdown",
   "id": "a25a0698-c2cf-4b94-9039-c9fabfb505e5",
   "metadata": {},
   "source": [
    "<img src=\"./snowflake-signedup.png\" width=\"70%\">"
   ]
  },
  {
   "cell_type": "markdown",
   "id": "b6d15389-a816-49d2-9082-434279fe26c0",
   "metadata": {},
   "source": [
    "### A little bit of snowflake"
   ]
  },
  {
   "cell_type": "markdown",
   "id": "e9842fb2-8b8d-4f86-a83b-92dbc33a034a",
   "metadata": {},
   "source": [
    "We can see that snowflake already has some data under the SNOWFLAKE_SAMPLE_DATA database.  If you click on that we'll see that under there are various schemas.  Schemas are essentially different folders in our database.  And then underneath the various schemas, we have multiple tables.  For example, if we click on the `TPCDS_SF100TCL` schema we can see various tables under the `TPCDS_SF100TCL` schema."
   ]
  },
  {
   "cell_type": "markdown",
   "id": "87ce0ea6-833c-4869-9922-0e747ccb0336",
   "metadata": {},
   "source": [
    "<img src=\"./multiple-tables.png\" width=\"50%\">"
   ]
  },
  {
   "cell_type": "markdown",
   "id": "600a6d26-7e54-446d-9ff6-bca2af6b983b",
   "metadata": {},
   "source": [
    "Now those tables are filled with some data.  Now let's try to query some data from the `CALL_CENTER` table.  The easiest way is to click on the three dots over the table, and then click on `Place Name in SQL`.  You'll see that data in snowflake now placed a string of `\"SNOWFLAKE_SAMPLE_DATA\".\"TPCDS_SF100TCL\".\"CALL_CENTER\"` in a worksheet over to the right.  "
   ]
  },
  {
   "cell_type": "markdown",
   "id": "d52fd2c5-0d9f-406a-84a7-4d023f009df6",
   "metadata": {},
   "source": [
    "<img src=\"./call-center.png\" width=\"70%\">"
   ]
  },
  {
   "cell_type": "markdown",
   "id": "b154d7ed-7c9b-46f8-94a4-6dc70dc5150f",
   "metadata": {},
   "source": [
    "This is telling us how to reference the table.  We start with the database name, then the schema name, followed by the table name.  And we can turn this into a couple of commands with something like the following:"
   ]
  },
  {
   "cell_type": "markdown",
   "id": "34819088-96cd-4c37-8315-515961ae66e8",
   "metadata": {},
   "source": [
    "<img src=\"./snowflake-commands.png\" width=\"90%\">"
   ]
  },
  {
   "cell_type": "markdown",
   "id": "5b723951-2e6b-4ca8-9971-946eb42e3e04",
   "metadata": {},
   "source": [
    "So we have two commands, to perform two different select statements.  And if we click the `RUN` button we can run each of those commands individually.  To determine which command is run, first click on the relevant line, and then click the run button.  For example, if we want the second line to run we'll use our mouse to click on that second line, and then click on the `Run` button."
   ]
  },
  {
   "cell_type": "markdown",
   "id": "a604b266-5646-40bb-97a2-1f2a7e663a03",
   "metadata": {},
   "source": [
    "<img src=\"./run-second.png\" width=\"60%\">"
   ]
  },
  {
   "cell_type": "markdown",
   "id": "c586e674-4902-42ea-b657-8a6551c88c24",
   "metadata": {},
   "source": [
    "We'll see that ten rows are returned below.  If you would like to run all queries, click on the `All Queries` checkbox to the right of `RUN`, and then click RUN.  All of the commands in the worksheet will be run, with the last command displayed."
   ]
  },
  {
   "cell_type": "markdown",
   "id": "be5b8438-c55e-4bf9-8720-9a769b606587",
   "metadata": {},
   "source": [
    "### Summary"
   ]
  },
  {
   "cell_type": "markdown",
   "id": "32e571cd-7ef8-41c1-b9cb-948f7344df5a",
   "metadata": {},
   "source": [
    "In this lesson, we saw how to sign up for and "
   ]
  },
  {
   "cell_type": "code",
   "execution_count": null,
   "id": "6a23fb68-ecbd-412f-a45d-8c7e0093dde4",
   "metadata": {},
   "outputs": [],
   "source": []
  }
 ],
 "metadata": {
  "kernelspec": {
   "display_name": "Python 3 (ipykernel)",
   "language": "python",
   "name": "python3"
  },
  "language_info": {
   "codemirror_mode": {
    "name": "ipython",
    "version": 3
   },
   "file_extension": ".py",
   "mimetype": "text/x-python",
   "name": "python",
   "nbconvert_exporter": "python",
   "pygments_lexer": "ipython3",
   "version": "3.9.7"
  }
 },
 "nbformat": 4,
 "nbformat_minor": 5
}
