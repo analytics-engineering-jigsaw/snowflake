{
 "cells": [
  {
   "cell_type": "markdown",
   "id": "15339239-6228-471a-b024-849fbfdb1993",
   "metadata": {},
   "source": [
    "# Databases, Schemas and Tables"
   ]
  },
  {
   "cell_type": "markdown",
   "id": "680636a8-3df5-43bb-bb28-a1f4fced8360",
   "metadata": {},
   "source": [
    "### Introduction"
   ]
  },
  {
   "cell_type": "markdown",
   "id": "2696050d-84a7-45c0-a1d1-5e7701f2fb8b",
   "metadata": {},
   "source": [
    "Now that we signed up for snowflake, let's continue to explore snowflake, seeing how we can interact with the different components."
   ]
  },
  {
   "cell_type": "markdown",
   "id": "cbce7c95-643a-44cd-ba57-7d63515b2b38",
   "metadata": {},
   "source": [
    "### Snowflake Databases, Schemas and Tables"
   ]
  },
  {
   "cell_type": "markdown",
   "id": "b83fe726-1f81-4dbf-b5f3-788a7fd3da7b",
   "metadata": {},
   "source": [
    "So when we load up snowflake, we will see something like the following."
   ]
  },
  {
   "cell_type": "markdown",
   "id": "6f005728-cc50-4aec-8ec8-64e5b6d46765",
   "metadata": {},
   "source": [
    "<img src=\"./snowflake-interface.png\" width=\"90%\">"
   ]
  },
  {
   "cell_type": "markdown",
   "id": "a9941329-4dba-4d46-8be2-0726ac157ed8",
   "metadata": {},
   "source": [
    "* Databases"
   ]
  },
  {
   "cell_type": "markdown",
   "id": "af8adf26-5c00-4e84-9217-f12601900c24",
   "metadata": {},
   "source": [
    "After clicking on the database tab to the left, we'll see different databases.  Remember that these databases contain data at the storage layer, in S3.  Why would we create multiple databases?  Well, while we generally want all of our production data in the same database, we may have separate databases for development -- for example, if we want to use mock data for privacy reasons.\n",
    "\n",
    "So to the left we see that we have two separate databases, `SNOWFLAKE` and `SNOWFLAKE_SAMPLE_DATA`.  "
   ]
  },
  {
   "cell_type": "markdown",
   "id": "5f1f0a13-0064-4f37-8522-5f645760c7d7",
   "metadata": {},
   "source": [
    "* Schemas \n",
    "\n",
    "As we mentioned, the databases are organized under different schemas.  And schemas act as a folder, so that we can organize different groups of tables within a database.  For example under the snowflake_sample_data database are schemas of `information_schema` and `tpcds_sf100tcl` among others."
   ]
  },
  {
   "cell_type": "markdown",
   "id": "9c8fded8-6f33-4b53-937d-b20cf1e2728f",
   "metadata": {},
   "source": [
    "### Referencing Snowflake Tables"
   ]
  },
  {
   "cell_type": "markdown",
   "id": "bad061d7-f037-4d9b-b42b-a7f36496e55f",
   "metadata": {},
   "source": [
    "Now because we can have multiple databases, and multiple schemas within a specified database, when we interact with a table, we also have to specify the database name, and schema name -- that is the **namespace** of the table.\n",
    "\n",
    "> The **namespace** is the combination of database name and schema name."
   ]
  },
  {
   "cell_type": "markdown",
   "id": "46fd22f2-c9fe-40e9-a55d-d28ca66d9e4d",
   "metadata": {},
   "source": [
    "Let's see this below.  We can click on `SNOWFLAKE_SAMPLE_DATA` and from there click on `TCPDS_SF100TCL` and then the table `CALL_CENTER`.  Then by clicking on the three dots, we can place the right reference to the table in SQL. "
   ]
  },
  {
   "cell_type": "markdown",
   "id": "5aeadc28-5787-4c3d-8a39-3f1f292bd526",
   "metadata": {},
   "source": [
    "<img src=\"./namespace.png\" width=\"60%\">"
   ]
  },
  {
   "cell_type": "markdown",
   "id": "2fc4701e-2132-42f1-b2ca-241dc6f9b7cb",
   "metadata": {},
   "source": [
    "And from there, we can fill in the rest of the SELECT statement and click click on the play button."
   ]
  },
  {
   "cell_type": "markdown",
   "id": "b73f656e-f165-4b70-9687-5cecbb154cde",
   "metadata": {},
   "source": [
    "* Another way"
   ]
  },
  {
   "cell_type": "markdown",
   "id": "c5965749-f838-46a0-8ca5-2b69c3f27ff9",
   "metadata": {},
   "source": [
    "Now another way we can specify the database and schema we would like to use is by again clicking on the database we want to use, and then selecting `Set Worksheet Context`."
   ]
  },
  {
   "cell_type": "markdown",
   "id": "19ad9ce8-31ed-4159-8321-5fac75ca8f91",
   "metadata": {},
   "source": [
    "<img src=\"./worksheet-context.png\" width=\"70%\">"
   ]
  },
  {
   "cell_type": "markdown",
   "id": "fe8843ba-580b-42f3-9d1b-4d91017d1035",
   "metadata": {},
   "source": [
    "If we click on the top right, we can select the `Database` and then `Schema`.  Notice that after clicking the `Set Worksheet Context` it then specifies `SNOWFLAKE_SAMPLE_DATA.TPCH_SF001TCT` at the very top of the sheet.  This means that, if we wishm we can leave out the namespace when selecting from the table, and just query `select * from call_center`."
   ]
  },
  {
   "cell_type": "markdown",
   "id": "f2056972-df7f-4d2e-a368-7ba915de2f0e",
   "metadata": {},
   "source": [
    "> **Note:** It's best to use the namespace. \n",
    "\n",
    "> While we can select interact with our tables without specifying the namespace, it's best to specify it.  This way, we don't have to worry about selecting the correct Database and Schema through the dropdown before running our queries."
   ]
  },
  {
   "cell_type": "markdown",
   "id": "0d792085-b218-492b-97cd-9cd82ae38851",
   "metadata": {},
   "source": [
    "### Database Menu"
   ]
  },
  {
   "cell_type": "markdown",
   "id": "4f82128b-f883-4df3-b047-ca38c075641d",
   "metadata": {},
   "source": [
    "The other way to navigate to databases is by first clicking on the home button in the top left."
   ]
  },
  {
   "cell_type": "markdown",
   "id": "dd402464-af0a-4f78-bc17-bd4d1a33db25",
   "metadata": {},
   "source": [
    "> <img src=\"./home-button.png\" width=\"40%\">"
   ]
  },
  {
   "cell_type": "markdown",
   "id": "f3ef5a20-e54f-4d0d-8eec-09b8b51bee6f",
   "metadata": {},
   "source": [
    "And from there clicking on data."
   ]
  },
  {
   "cell_type": "markdown",
   "id": "93f3b616-c4cf-4d56-ae0e-f7a48dc46f4e",
   "metadata": {},
   "source": [
    "<img src=\"./databases.png\" width=\"70%\">"
   ]
  },
  {
   "cell_type": "markdown",
   "id": "001df1c6-06c2-4bdc-9237-27c951489ee4",
   "metadata": {},
   "source": [
    "There, we can see both a list of our current databases, as well as an interface to create a new database."
   ]
  },
  {
   "cell_type": "markdown",
   "id": "f4d27cee-889a-47c2-83d4-20b5238067c1",
   "metadata": {},
   "source": [
    "We can also click on a database, and from there view the tables and column details."
   ]
  },
  {
   "cell_type": "markdown",
   "id": "9b520f1a-60b5-4eec-94b7-93ad642e24aa",
   "metadata": {},
   "source": [
    "<img src=\"./col-details.png\">"
   ]
  },
  {
   "cell_type": "markdown",
   "id": "b992b550-6eb4-4c73-bf1d-bcf4ede198d0",
   "metadata": {},
   "source": [
    "### Resources\n",
    "\n",
    "[UI Worksheet Documentation](https://docs.snowflake.com/en/user-guide/ui-worksheet.html)"
   ]
  }
 ],
 "metadata": {
  "kernelspec": {
   "display_name": "Python 3 (ipykernel)",
   "language": "python",
   "name": "python3"
  },
  "language_info": {
   "codemirror_mode": {
    "name": "ipython",
    "version": 3
   },
   "file_extension": ".py",
   "mimetype": "text/x-python",
   "name": "python",
   "nbconvert_exporter": "python",
   "pygments_lexer": "ipython3",
   "version": "3.10.6"
  }
 },
 "nbformat": 4,
 "nbformat_minor": 5
}
