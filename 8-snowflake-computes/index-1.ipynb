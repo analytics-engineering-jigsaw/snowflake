{
 "cells": [
  {
   "cell_type": "markdown",
   "id": "53a274c9-36b1-40ea-a4b0-ecc0b3ee58c2",
   "metadata": {},
   "source": [
    "# Snowflake Computes"
   ]
  },
  {
   "cell_type": "markdown",
   "id": "7bffd282-67be-4da5-93c9-b5bd4501361b",
   "metadata": {},
   "source": [
    "### Introduction"
   ]
  },
  {
   "cell_type": "markdown",
   "id": "4c10c0d8-900a-421f-aab2-5a363b629684",
   "metadata": {},
   "source": [
    "In the last lesson, we worked with navigating snowflake databases.  Remember that in snowflake, the databases exist at the storage layer -- for us, S3 -- which is separated from the compute layer.\n",
    "\n",
    "To perform any queries on our data, we will need to use a virtual warehouse, which will use both a CPU and memory to perform the queries.  In this lesson, we'll see how we can create new virtual warehouses using both the warehouse panel and through the worksheet."
   ]
  },
  {
   "cell_type": "markdown",
   "id": "0adb5421-6f6a-4a06-b487-ccb248a61ffa",
   "metadata": {},
   "source": [
    "### Viewing our Warehouses"
   ]
  },
  {
   "cell_type": "markdown",
   "id": "70deae58-217a-4405-8dac-11686de4cd78",
   "metadata": {},
   "source": [
    "Now if we open up our Worksheet, we can see over to the right, next to the icon for user, it indicates what warehouse we have selected.  Currently, it says the warehouse is `initial_wh`.  Notice that the dot to the right of `initial_warehouse` currently gray."
   ]
  },
  {
   "cell_type": "markdown",
   "id": "d6fbdd30-f33a-4324-9d1f-acd34bd3d695",
   "metadata": {},
   "source": [
    "<img src=\"./initial_wh.png\" width=\"60%\">"
   ]
  },
  {
   "cell_type": "markdown",
   "id": "a9609a19-8ca0-4eab-bc92-8ad4024e3541",
   "metadata": {},
   "source": [
    "But that once we enter a query, the dot turns green."
   ]
  },
  {
   "cell_type": "markdown",
   "id": "148e0958-1cda-4b3f-8ba2-dc9cb31b874b",
   "metadata": {},
   "source": [
    "<img src=\"./call_center.png\" width=\"100%\">"
   ]
  },
  {
   "cell_type": "markdown",
   "id": "9a545561-8b6b-4ca6-afcc-154e73539638",
   "metadata": {},
   "source": [
    "And of course, under the hood, our virtual warehouse is really just one or more EC2 machines.  So when we executed the query, these machines we're turned on."
   ]
  },
  {
   "cell_type": "markdown",
   "id": "41457666-5e46-4bd2-bc57-121c330eb2a8",
   "metadata": {},
   "source": [
    "<img src=\"./dw-3.jpg\" width=\"30%\">"
   ]
  },
  {
   "cell_type": "markdown",
   "id": "52136915-c684-4e8a-ad8b-a157ee9a2784",
   "metadata": {},
   "source": [
    "### Creating a data warehouse"
   ]
  },
  {
   "cell_type": "markdown",
   "id": "9c479789-36e6-4633-9f88-290f0d3bd63c",
   "metadata": {},
   "source": [
    "Now let's create a virtual warehouse.  We can do so by clicking on home tab to the left, and then on the Admin tab in the center, followed by Warehouses."
   ]
  },
  {
   "cell_type": "markdown",
   "id": "492a31e0-af79-4e9d-8a9f-d2b1b7fd7a05",
   "metadata": {},
   "source": [
    "<img src=\"./warehouses-dashboard.png\" width=\"100%\">"
   ]
  },
  {
   "cell_type": "markdown",
   "id": "88145bcc-0021-4870-b149-62da9bf72b8c",
   "metadata": {},
   "source": [
    "From there we'll be taken to the warehouses dashboard.  To the right we can see the various warehouses we have available, the related details, and current status.  \n",
    "\n",
    "Notice to the top right, there is a blue button that allows us to create a new warehouse."
   ]
  },
  {
   "cell_type": "markdown",
   "id": "9773a4cd-a249-4d98-81a1-676576cd848c",
   "metadata": {},
   "source": [
    "> <img src=\"./compute_wh_create.png\" width=\"100%\"> "
   ]
  },
  {
   "cell_type": "markdown",
   "id": "e3c0a69a-4178-4be5-b22d-4498d02af235",
   "metadata": {},
   "source": [
    "> Above, we create a new warehouse called `compute_wh`."
   ]
  },
  {
   "cell_type": "markdown",
   "id": "fd3254cd-19c6-4382-acfc-82585ce5d43e",
   "metadata": {},
   "source": [
    "And notice that after creating the new warehouse, we can then edit or drop (to delete) that new warehouse."
   ]
  },
  {
   "cell_type": "markdown",
   "id": "ed23ff56-91e2-4e7f-a437-4c549b20bb2a",
   "metadata": {},
   "source": [
    "<img src=\"./edit-drop.png\" width=\"70%\">"
   ]
  },
  {
   "cell_type": "markdown",
   "id": "80c8b0f0-0f82-49b9-8555-d2202829aa10",
   "metadata": {},
   "source": [
    "We can create a new warehouse through the panel that shows up. Or, after filling out the details, instead of clicking `Finish`, we can click `Show SQL` and we will see the SQL command needed to create this warehouse."
   ]
  },
  {
   "cell_type": "markdown",
   "id": "60a9217b-d1a2-416f-8c32-71757ae58c61",
   "metadata": {},
   "source": [
    "And of course another way that we can create a new warehouse is by using the snowflake command in our worksheet."
   ]
  },
  {
   "cell_type": "markdown",
   "id": "cbb714c9-624e-4c51-bd07-60e4d5199dc8",
   "metadata": {},
   "source": [
    "<img src=\"./show-wh.png\" width=\"50%\">"
   ]
  },
  {
   "cell_type": "markdown",
   "id": "c27a8905-3d36-48f7-9f9b-23e1e27c9e3f",
   "metadata": {},
   "source": [
    "### Summary"
   ]
  },
  {
   "cell_type": "markdown",
   "id": "c78f1640-3f70-4c93-b025-030885447e0e",
   "metadata": {},
   "source": [
    "In this lesson, we learned about setting up our virtual warehouses in Snowflake.  As we know, a virtual warehouse is just one or more EC2 machines used to make queries.  We viewed the current warehouse by looking at the warehouse icon over at the top right of the worksheet."
   ]
  },
  {
   "cell_type": "markdown",
   "id": "ff9e26b6-499d-448a-886f-9f569b0b256c",
   "metadata": {},
   "source": [
    "<img src=\"./initial_wh.png\" width=\"60%\">"
   ]
  },
  {
   "cell_type": "markdown",
   "id": "82bba2b6-9f61-4111-a536-3b2a97d7ed6c",
   "metadata": {},
   "source": [
    "And then we saw that we can create new warehouses by clicking on the warehouses icon."
   ]
  },
  {
   "cell_type": "markdown",
   "id": "ebd551ab-94da-4af6-9c39-277308a15fcf",
   "metadata": {},
   "source": [
    "<img src=\"./warehouses-dashboard.png\" width=\"100%\">"
   ]
  },
  {
   "cell_type": "markdown",
   "id": "42aa0c15-ccbd-4922-b992-78f06edff70b",
   "metadata": {},
   "source": [
    "And from there we clicked on `+ Warehouse`, and filled out the related form."
   ]
  },
  {
   "cell_type": "markdown",
   "id": "c12761d2-662d-4227-aad1-71f85eab5a51",
   "metadata": {},
   "source": [
    "> <img src=\"./compute_wh_create.png\" width=\"100%\"> "
   ]
  },
  {
   "cell_type": "markdown",
   "id": "fbaabe4a-baf6-4a5c-94e9-62ed4923388e",
   "metadata": {},
   "source": [
    "And as we know another way to have created the warehouse is to run the `create warehouse` command in the worksheet."
   ]
  },
  {
   "cell_type": "markdown",
   "id": "a1bfc173-94f7-4e4d-931c-00d200f0f6b3",
   "metadata": {},
   "source": [
    "<img src=\"./show-wh.png\" width=\"50%\">"
   ]
  }
 ],
 "metadata": {
  "kernelspec": {
   "display_name": "Python 3 (ipykernel)",
   "language": "python",
   "name": "python3"
  },
  "language_info": {
   "codemirror_mode": {
    "name": "ipython",
    "version": 3
   },
   "file_extension": ".py",
   "mimetype": "text/x-python",
   "name": "python",
   "nbconvert_exporter": "python",
   "pygments_lexer": "ipython3",
   "version": "3.10.6"
  }
 },
 "nbformat": 4,
 "nbformat_minor": 5
}
