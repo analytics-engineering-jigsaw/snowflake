{
 "cells": [
  {
   "cell_type": "markdown",
   "id": "53a274c9-36b1-40ea-a4b0-ecc0b3ee58c2",
   "metadata": {},
   "source": [
    "# Snowflake Queries and Commands`"
   ]
  },
  {
   "cell_type": "markdown",
   "id": "7bffd282-67be-4da5-93c9-b5bd4501361b",
   "metadata": {},
   "source": [
    "### Introduction"
   ]
  },
  {
   "cell_type": "markdown",
   "id": "81752cad-df65-4c07-9d08-76f1ddd642cb",
   "metadata": {},
   "source": [
    "Now that we have learned about working with our compute resources and databases, it's time to get some practice querying and altering the database through the worksheet.  To do so we'll explore the interface and some of the features in the worksheet, and a few queries and commands we can execute."
   ]
  },
  {
   "cell_type": "markdown",
   "id": "3f10eb06-7a5e-48cf-846e-dc9f7cfb5c4c",
   "metadata": {},
   "source": [
    "### Creating and Viewing worksheets"
   ]
  },
  {
   "cell_type": "markdown",
   "id": "40279ed0-d16c-489c-b5af-bd4c89a77507",
   "metadata": {},
   "source": [
    "The worksheet is where we will be writing and executing our snowflake statements."
   ]
  },
  {
   "cell_type": "markdown",
   "id": "84f07498-3ff3-4105-b1dd-967003a35e53",
   "metadata": {},
   "source": [
    "<img src=\"./working-worksheet.png\" width=\"100%\">"
   ]
  },
  {
   "cell_type": "markdown",
   "id": "4f382c28-8f9b-42fc-87b4-5d8978f857d7",
   "metadata": {},
   "source": [
    "We can create another worksheet by clicking on the `+` button next to the tab for our worksheet.  We can then rename a worksheet simply by double clicking on the worksheet name -- above `New Worksheet`.\n",
    "\n",
    "We can also see previously created worksheets by clicking on the down arrow next to the `+` sign.  When clicking on the dropdown arrow, we'll see something like the following:"
   ]
  },
  {
   "cell_type": "markdown",
   "id": "f5464150-698c-40fe-bebe-9bd4db0a10da",
   "metadata": {},
   "source": [
    "<img src=\"./previous-worksheets.png\" width=\"80%\">"
   ]
  },
  {
   "cell_type": "markdown",
   "id": "b92e3d19-e680-441b-baf9-68f04bb228d1",
   "metadata": {},
   "source": [
    "### Executing queries"
   ]
  },
  {
   "cell_type": "markdown",
   "id": "f9247b85-5e98-45d8-9fe4-2ed1706b6b91",
   "metadata": {},
   "source": [
    "As we know we run the queries individually by clicking on the `Run` button, and can check the `All queries` box, followed by `Run` to run the entire worksheet.  After running queries, we can see the results below, and even choose to download these results to a local CSV file."
   ]
  },
  {
   "cell_type": "markdown",
   "id": "f134707b-5bd2-4c4e-847e-4aeb409239bd",
   "metadata": {},
   "source": [
    "<img src=\"./open-history.png\" width=\"60%\">"
   ]
  },
  {
   "cell_type": "markdown",
   "id": "eb2ee40b-bbc6-4f7b-91da-54c588a29fae",
   "metadata": {},
   "source": [
    "We can also view the history of previously run queries by clicking on the Open History button to the bottom right.  When we do so, we'll see something like the following:"
   ]
  },
  {
   "cell_type": "markdown",
   "id": "b888b068-81e7-4ea0-8b9d-a24b523384f8",
   "metadata": {},
   "source": [
    "<img src=\"./query-history.png\" width=\"60%\">"
   ]
  },
  {
   "cell_type": "markdown",
   "id": "1ef3df31-f39e-45ee-af8f-cdbd08c6282a",
   "metadata": {},
   "source": [
    "And from there, can click on the query id to see the SQL that was run, as well as the produced results."
   ]
  },
  {
   "cell_type": "markdown",
   "id": "6d9fc678-e089-46d4-b225-3e1598627f05",
   "metadata": {},
   "source": [
    "<img src=\"./individual-query.png\" width=\"80%\">"
   ]
  },
  {
   "cell_type": "markdown",
   "id": "06156be9-a398-4b5a-8fac-ffad05a4e381",
   "metadata": {},
   "source": [
    "### Issuing Commands"
   ]
  },
  {
   "cell_type": "markdown",
   "id": "2ce0395e-7821-4b7a-a0e0-805187e03246",
   "metadata": {},
   "source": [
    "Beyond issuing queries, we can also manage our snowflake resources through the snowflake worksheet.  One way to do this is with the `USE` command."
   ]
  },
  {
   "cell_type": "markdown",
   "id": "73fc4a2b-094b-447b-ac01-582aa70cc13f",
   "metadata": {},
   "source": [
    "For example, if we look backover to the worksheet panel, we can see a role of SYSADMIN and a warehouse of SAMPLE_WAREHOUSE selected. "
   ]
  },
  {
   "cell_type": "markdown",
   "id": "27326552-371c-4a1e-b570-14248517a869",
   "metadata": {},
   "source": [
    "<img src=\"./warehouse-role.png\">"
   ]
  },
  {
   "cell_type": "markdown",
   "id": "9119aa08-e046-422b-8b47-15d29971133f",
   "metadata": {},
   "source": [
    "Now let's execute the use command to change the virtual warehouse to `COMPUTE_WH`. "
   ]
  },
  {
   "cell_type": "markdown",
   "id": "7fb2cefa-6c79-4b0e-95b9-1aa0c796606b",
   "metadata": {},
   "source": [
    "<img src=\"./change-warehouse.png\" width=\"80%\">"
   ]
  },
  {
   "cell_type": "markdown",
   "id": "65dc098e-f1c5-48e9-b120-861c1bba1898",
   "metadata": {},
   "source": [
    "After clicking the run command, we can see that the current warehouse has changed.  We can similarly change the current role from `SYSADMIN` to one of the other roles."
   ]
  },
  {
   "cell_type": "markdown",
   "id": "830f0168-3932-4229-bfa5-109b709b8393",
   "metadata": {},
   "source": [
    "<img src=\"./change-role.png\" width=\"80%\">"
   ]
  },
  {
   "cell_type": "markdown",
   "id": "b537721a-81d4-4c9c-a527-2ac99828ef71",
   "metadata": {},
   "source": [
    "This time we issue the command `USE ROLE ACCOUNTADMIN`.  So we can see that with the USE command, we follow the pattern of:\n",
    "```SQL\n",
    "USE resource_name target_name\n",
    "```"
   ]
  },
  {
   "cell_type": "markdown",
   "id": "0f636879-f893-47be-b7ee-055cc30b7b5f",
   "metadata": {},
   "source": [
    "We can also change the schema with this pattern."
   ]
  },
  {
   "cell_type": "markdown",
   "id": "2f51d8ac-fdbc-45f5-9101-8dbabaa20ab3",
   "metadata": {},
   "source": [
    "<img src=\"./change-schema.png\" width=\"100%\">"
   ]
  },
  {
   "cell_type": "markdown",
   "id": "e412781d-5ca2-4c4e-ac81-4b7183400854",
   "metadata": {},
   "source": [
    "And notice that the current settings of role, virtual warehouse, database, and schema are all specified by `USE` commands."
   ]
  },
  {
   "cell_type": "markdown",
   "id": "c27a8905-3d36-48f7-9f9b-23e1e27c9e3f",
   "metadata": {},
   "source": [
    "### Summary"
   ]
  },
  {
   "cell_type": "markdown",
   "id": "58628c91-57e0-4e82-a0c6-0dd416cc8792",
   "metadata": {},
   "source": [
    "In this lesson, we saw how to work with our worksheet and issue commands in snowflake.  We began by seeing how we can create a new worksheet -- by clicking on the `+` button, and bring up the panel to navigate between worksheets, by clicking on the down arrow."
   ]
  },
  {
   "cell_type": "markdown",
   "id": "211e9f2a-65bb-4288-ab5b-a9effdefde62",
   "metadata": {},
   "source": [
    "<img src=\"./previous-worksheets.png\" width=\"80%\">"
   ]
  },
  {
   "cell_type": "markdown",
   "id": "df527b19-3246-4813-964b-90813807192f",
   "metadata": {},
   "source": [
    "Then we saw how we can specify the role, virtual warehouse, and schema -- all with the use command. \n",
    "\n",
    "When working with USE, we follow the pattern of `USE resource_name target_name`."
   ]
  },
  {
   "cell_type": "markdown",
   "id": "0bf1f293-299d-456a-a634-a2bbeabec458",
   "metadata": {},
   "source": [
    "<img src=\"./change-schema.png\" width=\"100%\">"
   ]
  },
  {
   "cell_type": "markdown",
   "id": "965f7271-8d9c-43d2-b36b-8c06fe36cfef",
   "metadata": {},
   "source": [
    "### Resources\n",
    "\n",
    "[Snowflake DDL Documentation](https://docs.snowflake.com/en/sql-reference/sql-ddl-summary.html)"
   ]
  },
  {
   "cell_type": "code",
   "execution_count": null,
   "id": "1d4b8cc4-06b4-4f21-a7b1-65593d80c749",
   "metadata": {},
   "outputs": [],
   "source": []
  }
 ],
 "metadata": {
  "kernelspec": {
   "display_name": "Python 3 (ipykernel)",
   "language": "python",
   "name": "python3"
  },
  "language_info": {
   "codemirror_mode": {
    "name": "ipython",
    "version": 3
   },
   "file_extension": ".py",
   "mimetype": "text/x-python",
   "name": "python",
   "nbconvert_exporter": "python",
   "pygments_lexer": "ipython3",
   "version": "3.9.7"
  }
 },
 "nbformat": 4,
 "nbformat_minor": 5
}
