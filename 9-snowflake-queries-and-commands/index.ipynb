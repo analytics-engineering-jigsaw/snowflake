{
 "cells": [
  {
   "cell_type": "markdown",
   "id": "53a274c9-36b1-40ea-a4b0-ecc0b3ee58c2",
   "metadata": {},
   "source": [
    "# Snowflake Queries and Commands`"
   ]
  },
  {
   "cell_type": "markdown",
   "id": "7bffd282-67be-4da5-93c9-b5bd4501361b",
   "metadata": {},
   "source": [
    "### Introduction"
   ]
  },
  {
   "cell_type": "markdown",
   "id": "81752cad-df65-4c07-9d08-76f1ddd642cb",
   "metadata": {},
   "source": [
    "Now that we have learned about working with our compute resources and databases, it's time to get some practice querying and altering the database through the worksheet.  To do so we'll explore the interface and some of the features in the worksheet, and a few queries and commands we can execute."
   ]
  },
  {
   "cell_type": "markdown",
   "id": "3f10eb06-7a5e-48cf-846e-dc9f7cfb5c4c",
   "metadata": {},
   "source": [
    "### Creating and Viewing worksheets"
   ]
  },
  {
   "cell_type": "markdown",
   "id": "40279ed0-d16c-489c-b5af-bd4c89a77507",
   "metadata": {},
   "source": [
    "The worksheet is where we will be writing and executing our snowflake statements."
   ]
  },
  {
   "cell_type": "markdown",
   "id": "84f07498-3ff3-4105-b1dd-967003a35e53",
   "metadata": {},
   "source": [
    "<img src=\"./worksheet.png\" width=\"60%\">"
   ]
  },
  {
   "cell_type": "markdown",
   "id": "4f382c28-8f9b-42fc-87b4-5d8978f857d7",
   "metadata": {},
   "source": [
    "We can create another worksheet by clicking on the `+` button next to the tab for our worksheets -- which you can see over to the left under the worksheets tab."
   ]
  },
  {
   "cell_type": "markdown",
   "id": "75719f9f-22c7-477d-aef5-14fccf135783",
   "metadata": {},
   "source": [
    "<img src=\"./other-wksheet.png\" width=\"70%\">"
   ]
  },
  {
   "cell_type": "markdown",
   "id": "8b03138b-96fc-4176-8ca6-9532a73ecb1c",
   "metadata": {},
   "source": [
    "We can also rename a worksheet simply by clicking on the three dots to the right of the worksheet name, and then clicking rename.  "
   ]
  },
  {
   "cell_type": "markdown",
   "id": "f5464150-698c-40fe-bebe-9bd4db0a10da",
   "metadata": {},
   "source": [
    "<img src=\"./rename.png\" width=\"40%\">"
   ]
  },
  {
   "cell_type": "markdown",
   "id": "b92e3d19-e680-441b-baf9-68f04bb228d1",
   "metadata": {},
   "source": [
    "### Executing queries"
   ]
  },
  {
   "cell_type": "markdown",
   "id": "f9247b85-5e98-45d8-9fe4-2ed1706b6b91",
   "metadata": {},
   "source": [
    "As we know we run a query individually by clicking to the right of the line we want to execute, and then clicking the play button on the top right.  And we can run multiple queries by selecting multiple lines on the worksheet, and then pressing the play button.  \n",
    "\n",
    "> Below we do so, and see the results of the last query."
   ]
  },
  {
   "cell_type": "markdown",
   "id": "a5d7a906-8fe6-437f-9f0b-bc294d5d580e",
   "metadata": {},
   "source": [
    "<img src=\"./run-all.png\" width=\"50%\">"
   ]
  },
  {
   "cell_type": "markdown",
   "id": "df631ba1-9a87-4786-88f1-fca13604dfb8",
   "metadata": {},
   "source": [
    "After running queries, we can see the results below, and even choose to download these results to a local CSV file by clicking the icon on the right -- just to the right of the magnifying glass."
   ]
  },
  {
   "cell_type": "markdown",
   "id": "eb2ee40b-bbc6-4f7b-91da-54c588a29fae",
   "metadata": {},
   "source": [
    "We can also view the history of previously run queries by clicking on home button followed by the history tab."
   ]
  },
  {
   "cell_type": "markdown",
   "id": "b888b068-81e7-4ea0-8b9d-a24b523384f8",
   "metadata": {},
   "source": [
    "<img src=\"./history.png\" width=\"60%\">"
   ]
  },
  {
   "cell_type": "markdown",
   "id": "1ef3df31-f39e-45ee-af8f-cdbd08c6282a",
   "metadata": {},
   "source": [
    "And from there, can click on the query id to see the SQL that was run, as well as the produced results."
   ]
  },
  {
   "cell_type": "markdown",
   "id": "6d9fc678-e089-46d4-b225-3e1598627f05",
   "metadata": {},
   "source": [
    "<img src=\"./old-query.png\" width=\"60%\">"
   ]
  },
  {
   "cell_type": "markdown",
   "id": "06156be9-a398-4b5a-8fac-ffad05a4e381",
   "metadata": {},
   "source": [
    "### Issuing Commands"
   ]
  },
  {
   "cell_type": "markdown",
   "id": "2ce0395e-7821-4b7a-a0e0-805187e03246",
   "metadata": {},
   "source": [
    "Beyond issuing queries, we can also manage our snowflake resources through the snowflake worksheet.  One way to do this is with the `USE` command."
   ]
  },
  {
   "cell_type": "markdown",
   "id": "73fc4a2b-094b-447b-ac01-582aa70cc13f",
   "metadata": {},
   "source": [
    "For example, if we look backover to the worksheet panel, we can see a role of ACCOUNTADMIN and a warehouse of INITIAL_WAREHOUSE selected. "
   ]
  },
  {
   "cell_type": "markdown",
   "id": "27326552-371c-4a1e-b570-14248517a869",
   "metadata": {},
   "source": [
    "<img src=\"./initial-history.png\">"
   ]
  },
  {
   "cell_type": "markdown",
   "id": "9119aa08-e046-422b-8b47-15d29971133f",
   "metadata": {},
   "source": [
    "Now let's execute the use command to change the virtual warehouse to `COMPUTE_WH`. "
   ]
  },
  {
   "cell_type": "markdown",
   "id": "7fb2cefa-6c79-4b0e-95b9-1aa0c796606b",
   "metadata": {},
   "source": [
    "> <img src=\"./use-compute-wh.png\" width=\"100%\">"
   ]
  },
  {
   "cell_type": "markdown",
   "id": "65dc098e-f1c5-48e9-b120-861c1bba1898",
   "metadata": {},
   "source": [
    "After clicking the run command, we can see that the current warehouse has changed.  We can similarly change the current role from `ACCOUNTADMIN` to one of the other roles."
   ]
  },
  {
   "cell_type": "markdown",
   "id": "830f0168-3932-4229-bfa5-109b709b8393",
   "metadata": {},
   "source": [
    "> <img src=\"./sysadmin-use.png\" width=\"80%\">"
   ]
  },
  {
   "cell_type": "markdown",
   "id": "b537721a-81d4-4c9c-a527-2ac99828ef71",
   "metadata": {},
   "source": [
    "This time we issue the command `USE ROLE sysadmin`.  "
   ]
  },
  {
   "cell_type": "markdown",
   "id": "249dd5a6-97e0-4eb3-b6a3-879c03d2d91c",
   "metadata": {},
   "source": [
    "Notice that once we changed to a new role, we no longer have access to the warehouse.  This is because sysadmin does not yet have these privileges.  So we'd have to navigate to the Home followed by Admin > Warehouses tab, and then edit the selected warehouse."
   ]
  },
  {
   "cell_type": "markdown",
   "id": "5d08d9fc-72b1-41b7-98b9-d4ff05a68042",
   "metadata": {},
   "source": [
    "<img src=\"./transfer-ownership.png\" width=\"40%\">"
   ]
  },
  {
   "cell_type": "markdown",
   "id": "a4bbe8fa-45bc-4804-bc35-25cb288a99e4",
   "metadata": {},
   "source": [
    "From there we can re-run the `use warehouse compute_wh` button.  And from there we can run the query as the `sysadmin` with the warehouse of `compute_wh`."
   ]
  },
  {
   "cell_type": "markdown",
   "id": "cd865dc4-83a4-46a6-9231-54d796da86dc",
   "metadata": {},
   "source": [
    "> <img src=\"./final-query.png\" width=\"60%\">"
   ]
  },
  {
   "cell_type": "markdown",
   "id": "c27a8905-3d36-48f7-9f9b-23e1e27c9e3f",
   "metadata": {},
   "source": [
    "### Summary"
   ]
  },
  {
   "cell_type": "markdown",
   "id": "58628c91-57e0-4e82-a0c6-0dd416cc8792",
   "metadata": {},
   "source": [
    "In this lesson, we saw how to work with our worksheet and issue commands in snowflake.  We began by seeing how we can create a new worksheet -- by clicking worksheets tab followed by the `+` button."
   ]
  },
  {
   "cell_type": "markdown",
   "id": "211e9f2a-65bb-4288-ab5b-a9effdefde62",
   "metadata": {},
   "source": [
    "<img src=\"./other-wksheet.png\" width=\"70%\">"
   ]
  },
  {
   "cell_type": "markdown",
   "id": "df527b19-3246-4813-964b-90813807192f",
   "metadata": {},
   "source": [
    "Then we saw how we can specify the role, virtual warehouse, and schema -- all with the use command. \n",
    "\n",
    "When working with USE, we follow the pattern of `USE resource_name target_name`."
   ]
  },
  {
   "cell_type": "markdown",
   "id": "0bf1f293-299d-456a-a634-a2bbeabec458",
   "metadata": {},
   "source": [
    "> <img src=\"./use-compute-wh.png\" width=\"100%\">"
   ]
  },
  {
   "cell_type": "markdown",
   "id": "965f7271-8d9c-43d2-b36b-8c06fe36cfef",
   "metadata": {},
   "source": [
    "### Resources\n",
    "\n",
    "[Snowflake DDL Documentation](https://docs.snowflake.com/en/sql-reference/sql-ddl-summary.html)"
   ]
  }
 ],
 "metadata": {
  "kernelspec": {
   "display_name": "Python 3 (ipykernel)",
   "language": "python",
   "name": "python3"
  },
  "language_info": {
   "codemirror_mode": {
    "name": "ipython",
    "version": 3
   },
   "file_extension": ".py",
   "mimetype": "text/x-python",
   "name": "python",
   "nbconvert_exporter": "python",
   "pygments_lexer": "ipython3",
   "version": "3.10.6"
  }
 },
 "nbformat": 4,
 "nbformat_minor": 5
}
