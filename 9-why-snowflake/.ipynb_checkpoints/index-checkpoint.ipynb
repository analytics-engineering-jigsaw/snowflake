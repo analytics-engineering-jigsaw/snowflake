{
 "cells": [
  {
   "cell_type": "markdown",
   "id": "36d4d554-0ded-40b9-80cd-87ed42517a2f",
   "metadata": {},
   "source": [
    "# Why Snowflake"
   ]
  },
  {
   "cell_type": "markdown",
   "id": "8f29a6e7-a8ed-4f12-b617-744eafe2e471",
   "metadata": {},
   "source": [
    "### Introduction"
   ]
  },
  {
   "cell_type": "markdown",
   "id": "27eb6388-3f8b-4b7b-b4a8-16a1dbb5cece",
   "metadata": {},
   "source": [
    "### Why Snowflake"
   ]
  },
  {
   "cell_type": "markdown",
   "id": "8661e47f-0078-401e-9041-b4ccdb497789",
   "metadata": {},
   "source": [
    "* Pay only for what you use, with the compute."
   ]
  },
  {
   "cell_type": "markdown",
   "id": "cc9ce35d-bb5f-42e5-8ab5-5a5f605a632f",
   "metadata": {},
   "source": [
    "### Snowflake architecture"
   ]
  },
  {
   "cell_type": "markdown",
   "id": "b62ac893-41ec-4534-9c1e-11b2ffdc2934",
   "metadata": {},
   "source": [
    "* Three layers"
   ]
  },
  {
   "cell_type": "markdown",
   "id": "26441663-cc2e-4e97-9b99-742b1891506c",
   "metadata": {},
   "source": [
    "1. Storage Layer\n",
    "    * Tables, schemas and columns\n",
    "    * And are built on the block storage system in the cloud\n",
    "2. Compute layer \n",
    "    * Separates out the storage from the compute.  So can scale out compute in the cloud without needing to redistribute data on the disk.  And allows to scale quickly.  So the compute layer is the layer that does all of the processing."
   ]
  },
  {
   "cell_type": "markdown",
   "id": "7787a165-cdc1-42b4-ac7e-1756cc87685c",
   "metadata": {},
   "source": [
    "<img src=\"./snowflake-architecture.png\" width=\"40%\">"
   ]
  },
  {
   "cell_type": "markdown",
   "id": "bbbf3118-5ea4-479e-bfe1-42f678002d60",
   "metadata": {},
   "source": [
    "3. Service layer \n",
    "    * Can see up top that have the service layer with the acid complient database. "
   ]
  },
  {
   "cell_type": "markdown",
   "id": "e97dd8a0-d30e-46dc-a4c7-2dc80e0739a8",
   "metadata": {},
   "source": [
    "> <img src=\"./customers-snowflake.png\" width=\"40%\">"
   ]
  },
  {
   "cell_type": "code",
   "execution_count": null,
   "id": "48af26c5-e45f-4b79-a59b-a8c3522f1e4e",
   "metadata": {},
   "outputs": [],
   "source": []
  }
 ],
 "metadata": {
  "kernelspec": {
   "display_name": "Python 3 (ipykernel)",
   "language": "python",
   "name": "python3"
  },
  "language_info": {
   "codemirror_mode": {
    "name": "ipython",
    "version": 3
   },
   "file_extension": ".py",
   "mimetype": "text/x-python",
   "name": "python",
   "nbconvert_exporter": "python",
   "pygments_lexer": "ipython3",
   "version": "3.9.7"
  }
 },
 "nbformat": 4,
 "nbformat_minor": 5
}
