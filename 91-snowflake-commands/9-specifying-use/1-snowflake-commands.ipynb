{
 "cells": [
  {
   "cell_type": "markdown",
   "id": "0bbb27fb-58eb-4533-bafc-4d2ffdd6f0b1",
   "metadata": {},
   "source": [
    "# Snowflake Commands"
   ]
  },
  {
   "cell_type": "markdown",
   "id": "96f1b2ac-f7c1-49ba-8d1c-37fa09a43f4c",
   "metadata": {},
   "source": [
    "* Create a new warehouse\n",
    "* Create new user \n",
    "* Grant privileges to user\n"
   ]
  },
  {
   "cell_type": "markdown",
   "id": "b9ac1001-5926-4de3-9d47-f28281dd6d3b",
   "metadata": {},
   "source": [
    "<img src=\"./use-db.png\" width=\"60%\">"
   ]
  },
  {
   "cell_type": "markdown",
   "id": "8518c733-e469-4bc7-8e3c-7fdf6f15cfb6",
   "metadata": {},
   "source": [
    "```\n",
    "USE warehouses\n",
    "```"
   ]
  },
  {
   "cell_type": "markdown",
   "id": "e9904946-3979-4479-b360-a0ecc74e3a7c",
   "metadata": {},
   "source": [
    "```\n",
    "SHOW warehouses;\n",
    "```"
   ]
  },
  {
   "cell_type": "markdown",
   "id": "819ece38-79c0-4dcf-8557-887184aff76d",
   "metadata": {},
   "source": [
    "### Resources\n",
    "\n",
    "[Access Control](https://trevorscode.com/comprehensive-tutorial-of-snowflake-privileges-and-access-control/)"
   ]
  },
  {
   "cell_type": "code",
   "execution_count": null,
   "id": "e8f7a591-d5ff-4130-bc18-1eb91504ffc8",
   "metadata": {},
   "outputs": [],
   "source": []
  }
 ],
 "metadata": {
  "kernelspec": {
   "display_name": "Python 3 (ipykernel)",
   "language": "python",
   "name": "python3"
  },
  "language_info": {
   "codemirror_mode": {
    "name": "ipython",
    "version": 3
   },
   "file_extension": ".py",
   "mimetype": "text/x-python",
   "name": "python",
   "nbconvert_exporter": "python",
   "pygments_lexer": "ipython3",
   "version": "3.10.6"
  }
 },
 "nbformat": 4,
 "nbformat_minor": 5
}
