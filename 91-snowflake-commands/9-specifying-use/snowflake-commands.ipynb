{
 "cells": [
  {
   "cell_type": "markdown",
   "id": "47a9a1a8-da91-4f59-b255-f087aad8065e",
   "metadata": {},
   "source": [
    "# Snowflake Commands"
   ]
  },
  {
   "cell_type": "code",
   "execution_count": null,
   "id": "f027d1e1-4215-41fa-a676-5a05cc617abf",
   "metadata": {},
   "outputs": [],
   "source": []
  },
  {
   "cell_type": "markdown",
   "id": "2cfd65bd-0c65-47b4-b5d0-590fc246b6bf",
   "metadata": {},
   "source": [
    "### Resources\n",
    "\n",
    "[Snowflake Commands](https://docs.snowflake.com/en/sql-reference-commands.html)"
   ]
  },
  {
   "cell_type": "markdown",
   "id": "7f97b94b-6dda-477b-8a74-98d322e9521d",
   "metadata": {},
   "source": [
    "[Snowflake Privileges - Trevor Blog](https://trevorscode.com/comprehensive-tutorial-of-snowflake-privileges-and-access-control/)"
   ]
  },
  {
   "cell_type": "code",
   "execution_count": null,
   "id": "3e150e1f-ae79-46e5-a01f-dbde38602b5a",
   "metadata": {},
   "outputs": [],
   "source": []
  }
 ],
 "metadata": {
  "kernelspec": {
   "display_name": "Python 3 (ipykernel)",
   "language": "python",
   "name": "python3"
  },
  "language_info": {
   "codemirror_mode": {
    "name": "ipython",
    "version": 3
   },
   "file_extension": ".py",
   "mimetype": "text/x-python",
   "name": "python",
   "nbconvert_exporter": "python",
   "pygments_lexer": "ipython3",
   "version": "3.9.7"
  }
 },
 "nbformat": 4,
 "nbformat_minor": 5
}
