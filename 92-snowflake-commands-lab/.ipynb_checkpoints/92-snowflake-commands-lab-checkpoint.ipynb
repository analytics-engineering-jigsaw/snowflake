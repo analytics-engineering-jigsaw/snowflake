{
 "cells": [
  {
   "cell_type": "markdown",
   "id": "f1c213f3-5aee-458d-af04-36ee7cabfcb2",
   "metadata": {},
   "source": [
    "# Snowflake Queries Lab"
   ]
  },
  {
   "cell_type": "markdown",
   "id": "55597b9e-fef7-4cc2-b61b-55cd7d73358d",
   "metadata": {},
   "source": [
    "### Introduction"
   ]
  },
  {
   "cell_type": "markdown",
   "id": "59a68f1f-b3b6-458a-bea7-b28ca7ed0a1e",
   "metadata": {},
   "source": [
    "In this lesson, we'll practice working with snowflake, both by performing queries and working with different resources in snowflake.  Let's get started."
   ]
  },
  {
   "cell_type": "markdown",
   "id": "726f7f05-1347-479a-9f51-a1de5f28827c",
   "metadata": {},
   "source": [
    "### Issuing some queries"
   ]
  },
  {
   "cell_type": "markdown",
   "id": "7de39dda-5af5-49dd-99a0-d575762542f4",
   "metadata": {},
   "source": [
    "Begin by creating a new worksheet and labeling it `Queries Lab`."
   ]
  },
  {
   "cell_type": "markdown",
   "id": "8679ae4d-66c3-49e8-9745-3489b1e40129",
   "metadata": {},
   "source": [
    "> <img src=\"./query-lab-wksheet.png\" width=\"80%\">"
   ]
  },
  {
   "cell_type": "markdown",
   "id": "110a7378-dc03-4884-9d98-6db3fd6d80c5",
   "metadata": {},
   "source": [
    "Then from there, from the `SNOWFLAKE_SAMPLE_DATA` database, query the first 100 rows from the `TPCDS_SF100TCL` schema, the `CUSTOMER` table.  In the results, we should something like the following."
   ]
  },
  {
   "cell_type": "markdown",
   "id": "e91c9031-34bd-4cd3-8174-10254739f11a",
   "metadata": {},
   "source": [
    "> <img src=\"./customer-data.png\" width=\"90%\">"
   ]
  },
  {
   "cell_type": "markdown",
   "id": "faefc9e7-3f5e-4d97-bf05-bd4d821f3860",
   "metadata": {},
   "source": [
    "Then open the history and view details of the executed query."
   ]
  },
  {
   "cell_type": "markdown",
   "id": "fad1d69f-d8f3-4b82-a5e4-9425b229a68f",
   "metadata": {},
   "source": [
    "> The details like the User, Warehouse, and Start Time will be different, but you should see something like the following."
   ]
  },
  {
   "cell_type": "markdown",
   "id": "5a8c3280-8583-4ca8-ab1a-02c41d0d692d",
   "metadata": {},
   "source": [
    "> <img src=\"./query-history.png\" width=\"80%\">"
   ]
  },
  {
   "cell_type": "markdown",
   "id": "b6c307ce-2d34-40b5-a3db-297f6d0c315e",
   "metadata": {},
   "source": [
    "### Creating a Warehouse"
   ]
  },
  {
   "cell_type": "markdown",
   "id": "6bde7292-74f9-492a-ac7b-12a147e2886b",
   "metadata": {},
   "source": [
    "Next, let's create a new warehouse named `LAB_WH` and specify the size as `X-Small` with `Auto-Suspend` after set for 5 minutes.  "
   ]
  },
  {
   "cell_type": "markdown",
   "id": "f38d42f8-1405-4581-a345-3c839f1055d2",
   "metadata": {},
   "source": [
    "> After creating the warehouse through the worksheet, we should see that our warehouse has changed to `LAB_WH` and that it is size XS.  We can see this in the top right of the image below."
   ]
  },
  {
   "cell_type": "markdown",
   "id": "25a8d643-7c89-49ee-b16b-fa458a7031f1",
   "metadata": {},
   "source": [
    "> <img src=\"./lab-wh.png\" width=\"80%\">"
   ]
  },
  {
   "cell_type": "markdown",
   "id": "45d1dd1d-650e-44ed-8691-5b2c9d22e7b4",
   "metadata": {},
   "source": [
    "Next let's use the USE command to change the role.  For example, if it's currently `ACCOUNTADMIN`, change it to `SYSADMIN`.  If the command is run successfully, we should see it says `Statement executed successfully` under the Results."
   ]
  },
  {
   "cell_type": "markdown",
   "id": "bc44dec1-4553-4cb8-80b0-b01182ca85f4",
   "metadata": {},
   "source": [
    "> <img src=\"./statement-executed.png\" width=\"60%\">"
   ]
  },
  {
   "cell_type": "markdown",
   "id": "e6ffa907-71f6-4aae-85b8-056f67decfaf",
   "metadata": {},
   "source": [
    "And we should also see the role changed."
   ]
  },
  {
   "cell_type": "markdown",
   "id": "d7d55c5d-22a3-4546-8bde-152cdc0c6ad4",
   "metadata": {},
   "source": [
    "One, item to be careful about is that the warehouse may no longer be accessible to this user.  You can identify this if under warehouse it now says `No warehouse selected` at the top right."
   ]
  },
  {
   "cell_type": "markdown",
   "id": "f8806d11-d780-45a3-8c5f-bb6e3f9be1b1",
   "metadata": {},
   "source": [
    "If that's the case, employ the USE command to change the warehouse to one that is available to the current role.  If none is available to the current role, then make it available through the warehouses tab."
   ]
  },
  {
   "cell_type": "markdown",
   "id": "3ac466a1-ed4c-4248-afd2-997402aa1b9b",
   "metadata": {},
   "source": [
    "Then, employ the `USE` command to change the schema to `SNOWFLAKE_SAMPLE_DATA` `TPCDS_SF10TCL`.  \n",
    "\n",
    "You can do this with the command `use schema SNOWFLAKE_SAMPLE_DATA.TPCDS_SF10TCL`. \n",
    "\n",
    "Finally, with that schema selected, we can select the first ten rows from the `CALL_CENTER`, without specifying the schema in the query.  Give this a shot."
   ]
  },
  {
   "cell_type": "markdown",
   "id": "a7bf250c-0e0a-4990-b864-70fa9d65e987",
   "metadata": {},
   "source": [
    "> <img src=\"./call-center-results.png\" width=\"100%\">"
   ]
  },
  {
   "cell_type": "markdown",
   "id": "8957721c-2ca9-41a4-b31a-26df72e3c88e",
   "metadata": {},
   "source": [
    "Finally, export the results to a CSV file."
   ]
  },
  {
   "cell_type": "markdown",
   "id": "2654ef94-240c-49b3-b6fa-ed61f4be4fd9",
   "metadata": {},
   "source": [
    "### Summary"
   ]
  },
  {
   "cell_type": "markdown",
   "id": "e294ec2d-9cfe-4d99-af21-91a06c36ad15",
   "metadata": {},
   "source": [
    "In this lesson, we practiced working with the snowflake interface.  We did so by creating and renaming our worksheet, performing queries and viewing the results, and creating a new virtual warehouse.  We then executed the USE method to change our current role, virtual warehouse and schema.  Finally, we exported the results of our query into a CSV file. "
   ]
  }
 ],
 "metadata": {
  "kernelspec": {
   "display_name": "Python 3 (ipykernel)",
   "language": "python",
   "name": "python3"
  },
  "language_info": {
   "codemirror_mode": {
    "name": "ipython",
    "version": 3
   },
   "file_extension": ".py",
   "mimetype": "text/x-python",
   "name": "python",
   "nbconvert_exporter": "python",
   "pygments_lexer": "ipython3",
   "version": "3.10.6"
  }
 },
 "nbformat": 4,
 "nbformat_minor": 5
}
