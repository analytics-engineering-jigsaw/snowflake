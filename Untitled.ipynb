{
 "cells": [
  {
   "cell_type": "code",
   "execution_count": 1,
   "id": "941be56c-cd73-4d33-b2ec-5cff1b833490",
   "metadata": {},
   "outputs": [],
   "source": [
    "import requests"
   ]
  },
  {
   "cell_type": "code",
   "execution_count": 12,
   "id": "32449fb0-d93e-4f4b-a64f-5e687e8b03cd",
   "metadata": {},
   "outputs": [],
   "source": [
    "url = \"https://www.yelp.com/search/snippet?find_desc=Restaurants&find_loc=New%20York%2C%20NY%2010002&ns=1&start=50\"\n",
    "\n",
    "response = requests.get(\"https://books.googleapis.com/books/v1/volumes?q=tom%20sawyer\")"
   ]
  },
  {
   "cell_type": "code",
   "execution_count": 14,
   "id": "98806208-da58-4a8c-ac19-67c294962e60",
   "metadata": {},
   "outputs": [],
   "source": [
    "# response.json()"
   ]
  },
  {
   "cell_type": "code",
   "execution_count": 7,
   "id": "864e7d7e-adbf-41e0-938a-9826ce92590a",
   "metadata": {},
   "outputs": [
    {
     "data": {
      "text/plain": [
       "dict_keys(['pageTitle', 'loggingConfig', 'loggingData', 'searchPageProps', 'adLoggingConfig', 'ajaxScrollablePhotosURI', 'autoEnabledAttributes', 'pageLayout'])"
      ]
     },
     "execution_count": 7,
     "metadata": {},
     "output_type": "execute_result"
    }
   ],
   "source": [
    "data.keys()"
   ]
  },
  {
   "cell_type": "code",
   "execution_count": 8,
   "id": "fa82f2e5-fabd-4603-8333-06537cfeb12d",
   "metadata": {},
   "outputs": [],
   "source": [
    "songs = [\n",
    "{'title': 'whatever', 'artist': 'the beatles'},\n",
    "{'artist': 'prince'}\n",
    "]"
   ]
  },
  {
   "cell_type": "code",
   "execution_count": null,
   "id": "6a7dfbe5-f5d5-4497-998c-501c17feb80e",
   "metadata": {},
   "outputs": [],
   "source": []
  },
  {
   "cell_type": "code",
   "execution_count": 11,
   "id": "f45126d0-2d97-4b99-868c-771f99bba4a2",
   "metadata": {},
   "outputs": [
    {
     "data": {
      "text/plain": [
       "['whatever', 'N/A']"
      ]
     },
     "execution_count": 11,
     "metadata": {},
     "output_type": "execute_result"
    }
   ],
   "source": [
    "[song.get('title', 'N/A') for song in songs]"
   ]
  },
  {
   "cell_type": "code",
   "execution_count": null,
   "id": "6be1a008-da01-49e7-a868-9ea69f345c18",
   "metadata": {},
   "outputs": [],
   "source": []
  }
 ],
 "metadata": {
  "kernelspec": {
   "display_name": "Python 3 (ipykernel)",
   "language": "python",
   "name": "python3"
  },
  "language_info": {
   "codemirror_mode": {
    "name": "ipython",
    "version": 3
   },
   "file_extension": ".py",
   "mimetype": "text/x-python",
   "name": "python",
   "nbconvert_exporter": "python",
   "pygments_lexer": "ipython3",
   "version": "3.9.7"
  }
 },
 "nbformat": 4,
 "nbformat_minor": 5
}
